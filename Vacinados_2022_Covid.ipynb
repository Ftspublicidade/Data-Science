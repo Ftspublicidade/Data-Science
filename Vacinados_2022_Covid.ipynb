{
 "cells": [
  {
   "cell_type": "markdown",
   "metadata": {
    "colab_type": "text",
    "id": "view-in-github"
   },
   "source": [
    "<a href=\"https://colab.research.google.com/github/Ftspublicidade/Data-Science/blob/master/Vacinados_2022_Covid.ipynb\" target=\"_parent\"><img src=\"https://colab.research.google.com/assets/colab-badge.svg\" alt=\"Open In Colab\"/></a>"
   ]
  },
  {
   "cell_type": "markdown",
   "metadata": {
    "id": "FruLaUvRWW7J"
   },
   "source": [
    "### Base de dados: http://dados.recife.pe.gov.br/dataset/perfil-das-pessoas-vacinadas-covid-19"
   ]
  },
  {
   "cell_type": "code",
   "execution_count": 1,
   "metadata": {
    "id": "BV7pTCUWgm10"
   },
   "outputs": [],
   "source": [
    "# Importando biblioteca\n",
    "import pandas as pd\n",
    "import plotly.express as px"
   ]
  },
  {
   "cell_type": "code",
   "execution_count": 2,
   "metadata": {
    "colab": {
     "base_uri": "https://localhost:8080/"
    },
    "id": "asrZRIRjgrxn",
    "outputId": "9ee59e3d-ff04-47d2-f485-f9b4fbb9ff7c"
   },
   "outputs": [],
   "source": [
    "# Lendo a base de dados\n",
    "df = pd.read_parquet(\"vacinados_2023.parquet\")"
   ]
  },
  {
   "cell_type": "code",
   "execution_count": 3,
   "metadata": {
    "colab": {
     "base_uri": "https://localhost:8080/",
     "height": 617
    },
    "id": "n1bMl1lzpJ8c",
    "outputId": "780c409b-82b9-40c1-df0c-c49e21d284fa"
   },
   "outputs": [
    {
     "data": {
      "text/html": [
       "<div>\n",
       "<style scoped>\n",
       "    .dataframe tbody tr th:only-of-type {\n",
       "        vertical-align: middle;\n",
       "    }\n",
       "\n",
       "    .dataframe tbody tr th {\n",
       "        vertical-align: top;\n",
       "    }\n",
       "\n",
       "    .dataframe thead th {\n",
       "        text-align: right;\n",
       "    }\n",
       "</style>\n",
       "<table border=\"1\" class=\"dataframe\">\n",
       "  <thead>\n",
       "    <tr style=\"text-align: right;\">\n",
       "      <th></th>\n",
       "      <th>faixa_etaria</th>\n",
       "      <th>idade</th>\n",
       "      <th>sexo</th>\n",
       "      <th>raca_cor</th>\n",
       "      <th>municipio</th>\n",
       "      <th>grupo</th>\n",
       "      <th>categoria</th>\n",
       "      <th>lote</th>\n",
       "      <th>vacina_fabricante</th>\n",
       "      <th>descricao_dose</th>\n",
       "      <th>cnes</th>\n",
       "      <th>sistema_origem</th>\n",
       "      <th>data_vacinacao</th>\n",
       "    </tr>\n",
       "  </thead>\n",
       "  <tbody>\n",
       "    <tr>\n",
       "      <th>0</th>\n",
       "      <td>40 a 44 anos</td>\n",
       "      <td>41</td>\n",
       "      <td>FEMININO</td>\n",
       "      <td>BRANCA</td>\n",
       "      <td>RECIFE</td>\n",
       "      <td>TRABALHADORES DA SAÚDE</td>\n",
       "      <td>None</td>\n",
       "      <td>222VCD045W</td>\n",
       "      <td>2 - CHADOX1NCOV-19 - OXFORD/ASTRAZENECA (FIOCRUZ)</td>\n",
       "      <td>4.0</td>\n",
       "      <td>DS 6: CNES: 0001392 - MIGUEL DE LIMA VALVERDE.</td>\n",
       "      <td>Conecta Recife</td>\n",
       "      <td>2022-10-29 00:00:00.0</td>\n",
       "    </tr>\n",
       "    <tr>\n",
       "      <th>1</th>\n",
       "      <td>40 a 44 anos</td>\n",
       "      <td>43</td>\n",
       "      <td>MASCULINO</td>\n",
       "      <td>BRANCA</td>\n",
       "      <td>RECIFE</td>\n",
       "      <td>PÚBLICO EM GERAL (18 a 59 anos)</td>\n",
       "      <td>None</td>\n",
       "      <td>223VCD072W</td>\n",
       "      <td>2 - CHADOX1NCOV-19 - OXFORD/ASTRAZENECA (FIOCRUZ)</td>\n",
       "      <td>3.0</td>\n",
       "      <td>DS 6: CNES: 0001392 - MIGUEL DE LIMA VALVERDE.</td>\n",
       "      <td>Conecta Recife</td>\n",
       "      <td>2022-08-03 00:00:00.0</td>\n",
       "    </tr>\n",
       "    <tr>\n",
       "      <th>2</th>\n",
       "      <td>80 a 84 anos</td>\n",
       "      <td>80</td>\n",
       "      <td>FEMININO</td>\n",
       "      <td>BRANCA</td>\n",
       "      <td>RECIFE</td>\n",
       "      <td>IDOSOS</td>\n",
       "      <td>None</td>\n",
       "      <td>21PVCD356Z</td>\n",
       "      <td>2 - CHADOX1NCOV-19 - OXFORD/ASTRAZENECA (FIOCRUZ)</td>\n",
       "      <td>4.0</td>\n",
       "      <td>DS 4: CNES: 0000639 - UBS JOAQUIM CAVALCANTE</td>\n",
       "      <td>Conecta Recife</td>\n",
       "      <td>2022-04-30 00:00:00.0</td>\n",
       "    </tr>\n",
       "    <tr>\n",
       "      <th>3</th>\n",
       "      <td>55 a 59 anos</td>\n",
       "      <td>55</td>\n",
       "      <td>FEMININO</td>\n",
       "      <td>BRANCA</td>\n",
       "      <td>RECIFE</td>\n",
       "      <td>PÚBLICO EM GERAL (18 a 59 anos)</td>\n",
       "      <td>None</td>\n",
       "      <td>223VCD072W</td>\n",
       "      <td>2 - CHADOX1NCOV-19 - OXFORD/ASTRAZENECA (FIOCRUZ)</td>\n",
       "      <td>4.0</td>\n",
       "      <td>DS 2: CNES: 6897029 - POLICLÍNICA SALOMÃO KELNER</td>\n",
       "      <td>Conecta Recife</td>\n",
       "      <td>2022-08-09 00:00:00.0</td>\n",
       "    </tr>\n",
       "    <tr>\n",
       "      <th>4</th>\n",
       "      <td>45 a 49 anos</td>\n",
       "      <td>45</td>\n",
       "      <td>FEMININO</td>\n",
       "      <td>PARDA</td>\n",
       "      <td>RECIFE</td>\n",
       "      <td>PÚBLICO EM GERAL (18 a 59 anos)</td>\n",
       "      <td>None</td>\n",
       "      <td>202001</td>\n",
       "      <td>3 - COMIRNATY (PFIZER)</td>\n",
       "      <td>3.0</td>\n",
       "      <td>DS 7: CNES: 0000647 - POLICLINICA CLEMENTINO F...</td>\n",
       "      <td>Conecta Recife</td>\n",
       "      <td>2022-10-15 00:00:00.0</td>\n",
       "    </tr>\n",
       "  </tbody>\n",
       "</table>\n",
       "</div>"
      ],
      "text/plain": [
       "   faixa_etaria idade       sexo raca_cor municipio  \\\n",
       "0  40 a 44 anos    41   FEMININO   BRANCA    RECIFE   \n",
       "1  40 a 44 anos    43  MASCULINO   BRANCA    RECIFE   \n",
       "2  80 a 84 anos    80   FEMININO   BRANCA    RECIFE   \n",
       "3  55 a 59 anos    55   FEMININO   BRANCA    RECIFE   \n",
       "4  45 a 49 anos    45   FEMININO    PARDA    RECIFE   \n",
       "\n",
       "                             grupo categoria        lote  \\\n",
       "0           TRABALHADORES DA SAÚDE      None  222VCD045W   \n",
       "1  PÚBLICO EM GERAL (18 a 59 anos)      None  223VCD072W   \n",
       "2                           IDOSOS      None  21PVCD356Z   \n",
       "3  PÚBLICO EM GERAL (18 a 59 anos)      None  223VCD072W   \n",
       "4  PÚBLICO EM GERAL (18 a 59 anos)      None      202001   \n",
       "\n",
       "                                   vacina_fabricante descricao_dose  \\\n",
       "0  2 - CHADOX1NCOV-19 - OXFORD/ASTRAZENECA (FIOCRUZ)            4.0   \n",
       "1  2 - CHADOX1NCOV-19 - OXFORD/ASTRAZENECA (FIOCRUZ)            3.0   \n",
       "2  2 - CHADOX1NCOV-19 - OXFORD/ASTRAZENECA (FIOCRUZ)            4.0   \n",
       "3  2 - CHADOX1NCOV-19 - OXFORD/ASTRAZENECA (FIOCRUZ)            4.0   \n",
       "4                             3 - COMIRNATY (PFIZER)            3.0   \n",
       "\n",
       "                                                cnes  sistema_origem  \\\n",
       "0     DS 6: CNES: 0001392 - MIGUEL DE LIMA VALVERDE.  Conecta Recife   \n",
       "1     DS 6: CNES: 0001392 - MIGUEL DE LIMA VALVERDE.  Conecta Recife   \n",
       "2       DS 4: CNES: 0000639 - UBS JOAQUIM CAVALCANTE  Conecta Recife   \n",
       "3   DS 2: CNES: 6897029 - POLICLÍNICA SALOMÃO KELNER  Conecta Recife   \n",
       "4  DS 7: CNES: 0000647 - POLICLINICA CLEMENTINO F...  Conecta Recife   \n",
       "\n",
       "          data_vacinacao  \n",
       "0  2022-10-29 00:00:00.0  \n",
       "1  2022-08-03 00:00:00.0  \n",
       "2  2022-04-30 00:00:00.0  \n",
       "3  2022-08-09 00:00:00.0  \n",
       "4  2022-10-15 00:00:00.0  "
      ]
     },
     "execution_count": 3,
     "metadata": {},
     "output_type": "execute_result"
    }
   ],
   "source": [
    "# Exibindo as 5 primeiras linhas\n",
    "df.head()"
   ]
  },
  {
   "cell_type": "code",
   "execution_count": null,
   "metadata": {
    "colab": {
     "base_uri": "https://localhost:8080/",
     "height": 600
    },
    "id": "2BG3WDjiUB-a",
    "outputId": "ed5e1013-1b64-43bc-b248-2f37aec8f7b5"
   },
   "outputs": [
    {
     "data": {
      "text/html": [
       "\n",
       "  <div id=\"df-d03f31ae-78c9-4aee-924b-e7e362d19ac3\">\n",
       "    <div class=\"colab-df-container\">\n",
       "      <div>\n",
       "<style scoped>\n",
       "    .dataframe tbody tr th:only-of-type {\n",
       "        vertical-align: middle;\n",
       "    }\n",
       "\n",
       "    .dataframe tbody tr th {\n",
       "        vertical-align: top;\n",
       "    }\n",
       "\n",
       "    .dataframe thead th {\n",
       "        text-align: right;\n",
       "    }\n",
       "</style>\n",
       "<table border=\"1\" class=\"dataframe\">\n",
       "  <thead>\n",
       "    <tr style=\"text-align: right;\">\n",
       "      <th></th>\n",
       "      <th>faixa_etaria</th>\n",
       "      <th>idade</th>\n",
       "      <th>sexo</th>\n",
       "      <th>raca_cor</th>\n",
       "      <th>municipio</th>\n",
       "      <th>grupo</th>\n",
       "      <th>categoria</th>\n",
       "      <th>lote</th>\n",
       "      <th>vacina_fabricante</th>\n",
       "      <th>descricao_dose</th>\n",
       "      <th>cnes</th>\n",
       "      <th>sistema_origem</th>\n",
       "      <th>data_vacinacao</th>\n",
       "    </tr>\n",
       "  </thead>\n",
       "  <tbody>\n",
       "    <tr>\n",
       "      <th>597357</th>\n",
       "      <td>10 a 14 anos</td>\n",
       "      <td>12.0</td>\n",
       "      <td>MASCULINO</td>\n",
       "      <td>PARDA</td>\n",
       "      <td>RECIFE</td>\n",
       "      <td>PÚBLICO EM GERAL - MENOR DE 18 ANOS</td>\n",
       "      <td>NaN</td>\n",
       "      <td>210527</td>\n",
       "      <td>1 - CORONAVAC - SINOVAC (BUTANTAN)</td>\n",
       "      <td>1</td>\n",
       "      <td>DS 2: CNES: 6897029 - POLICLÍNICA SALOMÃO KELNER</td>\n",
       "      <td>Conecta Recife</td>\n",
       "      <td>2022-07-17 00:00:00.0</td>\n",
       "    </tr>\n",
       "    <tr>\n",
       "      <th>597358</th>\n",
       "      <td>10 a 14 anos</td>\n",
       "      <td>13.0</td>\n",
       "      <td>FEMININO</td>\n",
       "      <td>PARDA</td>\n",
       "      <td>RECIFE</td>\n",
       "      <td>PÚBLICO EM GERAL - MENOR DE 18 ANOS</td>\n",
       "      <td>NaN</td>\n",
       "      <td>202001</td>\n",
       "      <td>3 - COMIRNATY (PFIZER)</td>\n",
       "      <td>3</td>\n",
       "      <td>DS 1: CNES: 000507 - POLICLÍNICA GOUVEIA DE BA...</td>\n",
       "      <td>Conecta Recife</td>\n",
       "      <td>2022-10-12 00:00:00.0</td>\n",
       "    </tr>\n",
       "    <tr>\n",
       "      <th>597359</th>\n",
       "      <td>5 a 9 anos</td>\n",
       "      <td>6.0</td>\n",
       "      <td>FEMININO</td>\n",
       "      <td>AMARELA</td>\n",
       "      <td>RECIFE</td>\n",
       "      <td>CRIANÇAS DE 05 A 11 ANOS</td>\n",
       "      <td>NaN</td>\n",
       "      <td>B202106081</td>\n",
       "      <td>6 - CORONAVAC - SINOVAC (BUTANTAN) PEDIÁTRICA</td>\n",
       "      <td>2</td>\n",
       "      <td>DS 7: CNES: 0000647 - POLICLINICA CLEMENTINO F...</td>\n",
       "      <td>Conecta Recife</td>\n",
       "      <td>2022-05-17 00:00:00.0</td>\n",
       "    </tr>\n",
       "    <tr>\n",
       "      <th>597360</th>\n",
       "      <td>65 a 69 anos</td>\n",
       "      <td>68.0</td>\n",
       "      <td>FEMININO</td>\n",
       "      <td>PARDA</td>\n",
       "      <td>RECIFE</td>\n",
       "      <td>IDOSOS</td>\n",
       "      <td>NaN</td>\n",
       "      <td>1875740</td>\n",
       "      <td>4 - JANSSEN COVID-19 VACCINE (JOHNSON &amp; JOHNSON)</td>\n",
       "      <td>4</td>\n",
       "      <td>DS 3: CNES: 000612 - POLICLÍNICA ALBERT SABIN</td>\n",
       "      <td>Conecta Recife</td>\n",
       "      <td>2022-06-17 00:00:00.0</td>\n",
       "    </tr>\n",
       "    <tr>\n",
       "      <th>597361</th>\n",
       "      <td>80 a 84 anos</td>\n",
       "      <td>80.0</td>\n",
       "      <td>FEMININO</td>\n",
       "      <td>PARDA</td>\n",
       "      <td>RECIFE</td>\n",
       "      <td>IDOSOS</td>\n",
       "      <td>NaN</td>\n",
       "      <td>204J21A</td>\n",
       "      <td>4 - JANSSEN COVID-19 VACCINE (JOHNSON &amp; JOHNSON)</td>\n",
       "      <td>4</td>\n",
       "      <td>DS 4: CNES: 0</td>\n",
       "      <td>NaN</td>\n",
       "      <td>NaN</td>\n",
       "    </tr>\n",
       "  </tbody>\n",
       "</table>\n",
       "</div>\n",
       "      <button class=\"colab-df-convert\" onclick=\"convertToInteractive('df-d03f31ae-78c9-4aee-924b-e7e362d19ac3')\"\n",
       "              title=\"Convert this dataframe to an interactive table.\"\n",
       "              style=\"display:none;\">\n",
       "        \n",
       "  <svg xmlns=\"http://www.w3.org/2000/svg\" height=\"24px\"viewBox=\"0 0 24 24\"\n",
       "       width=\"24px\">\n",
       "    <path d=\"M0 0h24v24H0V0z\" fill=\"none\"/>\n",
       "    <path d=\"M18.56 5.44l.94 2.06.94-2.06 2.06-.94-2.06-.94-.94-2.06-.94 2.06-2.06.94zm-11 1L8.5 8.5l.94-2.06 2.06-.94-2.06-.94L8.5 2.5l-.94 2.06-2.06.94zm10 10l.94 2.06.94-2.06 2.06-.94-2.06-.94-.94-2.06-.94 2.06-2.06.94z\"/><path d=\"M17.41 7.96l-1.37-1.37c-.4-.4-.92-.59-1.43-.59-.52 0-1.04.2-1.43.59L10.3 9.45l-7.72 7.72c-.78.78-.78 2.05 0 2.83L4 21.41c.39.39.9.59 1.41.59.51 0 1.02-.2 1.41-.59l7.78-7.78 2.81-2.81c.8-.78.8-2.07 0-2.86zM5.41 20L4 18.59l7.72-7.72 1.47 1.35L5.41 20z\"/>\n",
       "  </svg>\n",
       "      </button>\n",
       "      \n",
       "  <style>\n",
       "    .colab-df-container {\n",
       "      display:flex;\n",
       "      flex-wrap:wrap;\n",
       "      gap: 12px;\n",
       "    }\n",
       "\n",
       "    .colab-df-convert {\n",
       "      background-color: #E8F0FE;\n",
       "      border: none;\n",
       "      border-radius: 50%;\n",
       "      cursor: pointer;\n",
       "      display: none;\n",
       "      fill: #1967D2;\n",
       "      height: 32px;\n",
       "      padding: 0 0 0 0;\n",
       "      width: 32px;\n",
       "    }\n",
       "\n",
       "    .colab-df-convert:hover {\n",
       "      background-color: #E2EBFA;\n",
       "      box-shadow: 0px 1px 2px rgba(60, 64, 67, 0.3), 0px 1px 3px 1px rgba(60, 64, 67, 0.15);\n",
       "      fill: #174EA6;\n",
       "    }\n",
       "\n",
       "    [theme=dark] .colab-df-convert {\n",
       "      background-color: #3B4455;\n",
       "      fill: #D2E3FC;\n",
       "    }\n",
       "\n",
       "    [theme=dark] .colab-df-convert:hover {\n",
       "      background-color: #434B5C;\n",
       "      box-shadow: 0px 1px 3px 1px rgba(0, 0, 0, 0.15);\n",
       "      filter: drop-shadow(0px 1px 2px rgba(0, 0, 0, 0.3));\n",
       "      fill: #FFFFFF;\n",
       "    }\n",
       "  </style>\n",
       "\n",
       "      <script>\n",
       "        const buttonEl =\n",
       "          document.querySelector('#df-d03f31ae-78c9-4aee-924b-e7e362d19ac3 button.colab-df-convert');\n",
       "        buttonEl.style.display =\n",
       "          google.colab.kernel.accessAllowed ? 'block' : 'none';\n",
       "\n",
       "        async function convertToInteractive(key) {\n",
       "          const element = document.querySelector('#df-d03f31ae-78c9-4aee-924b-e7e362d19ac3');\n",
       "          const dataTable =\n",
       "            await google.colab.kernel.invokeFunction('convertToInteractive',\n",
       "                                                     [key], {});\n",
       "          if (!dataTable) return;\n",
       "\n",
       "          const docLinkHtml = 'Like what you see? Visit the ' +\n",
       "            '<a target=\"_blank\" href=https://colab.research.google.com/notebooks/data_table.ipynb>data table notebook</a>'\n",
       "            + ' to learn more about interactive tables.';\n",
       "          element.innerHTML = '';\n",
       "          dataTable['output_type'] = 'display_data';\n",
       "          await google.colab.output.renderOutput(dataTable, element);\n",
       "          const docLink = document.createElement('div');\n",
       "          docLink.innerHTML = docLinkHtml;\n",
       "          element.appendChild(docLink);\n",
       "        }\n",
       "      </script>\n",
       "    </div>\n",
       "  </div>\n",
       "  "
      ],
      "text/plain": [
       "        faixa_etaria idade       sexo raca_cor municipio  \\\n",
       "597357  10 a 14 anos  12.0  MASCULINO    PARDA    RECIFE   \n",
       "597358  10 a 14 anos  13.0   FEMININO    PARDA    RECIFE   \n",
       "597359    5 a 9 anos   6.0   FEMININO  AMARELA    RECIFE   \n",
       "597360  65 a 69 anos  68.0   FEMININO    PARDA    RECIFE   \n",
       "597361  80 a 84 anos  80.0   FEMININO    PARDA    RECIFE   \n",
       "\n",
       "                                      grupo categoria        lote  \\\n",
       "597357  PÚBLICO EM GERAL - MENOR DE 18 ANOS       NaN      210527   \n",
       "597358  PÚBLICO EM GERAL - MENOR DE 18 ANOS       NaN      202001   \n",
       "597359             CRIANÇAS DE 05 A 11 ANOS       NaN  B202106081   \n",
       "597360                               IDOSOS       NaN     1875740   \n",
       "597361                               IDOSOS       NaN     204J21A   \n",
       "\n",
       "                                       vacina_fabricante descricao_dose  \\\n",
       "597357                1 - CORONAVAC - SINOVAC (BUTANTAN)              1   \n",
       "597358                            3 - COMIRNATY (PFIZER)              3   \n",
       "597359     6 - CORONAVAC - SINOVAC (BUTANTAN) PEDIÁTRICA              2   \n",
       "597360  4 - JANSSEN COVID-19 VACCINE (JOHNSON & JOHNSON)              4   \n",
       "597361  4 - JANSSEN COVID-19 VACCINE (JOHNSON & JOHNSON)              4   \n",
       "\n",
       "                                                     cnes  sistema_origem  \\\n",
       "597357   DS 2: CNES: 6897029 - POLICLÍNICA SALOMÃO KELNER  Conecta Recife   \n",
       "597358  DS 1: CNES: 000507 - POLICLÍNICA GOUVEIA DE BA...  Conecta Recife   \n",
       "597359  DS 7: CNES: 0000647 - POLICLINICA CLEMENTINO F...  Conecta Recife   \n",
       "597360      DS 3: CNES: 000612 - POLICLÍNICA ALBERT SABIN  Conecta Recife   \n",
       "597361                                      DS 4: CNES: 0             NaN   \n",
       "\n",
       "               data_vacinacao  \n",
       "597357  2022-07-17 00:00:00.0  \n",
       "597358  2022-10-12 00:00:00.0  \n",
       "597359  2022-05-17 00:00:00.0  \n",
       "597360  2022-06-17 00:00:00.0  \n",
       "597361                    NaN  "
      ]
     },
     "execution_count": 19,
     "metadata": {},
     "output_type": "execute_result"
    }
   ],
   "source": [
    "# Exibindo as 5 últimas linhas\n",
    "df.tail()"
   ]
  },
  {
   "cell_type": "code",
   "execution_count": null,
   "metadata": {
    "colab": {
     "base_uri": "https://localhost:8080/"
    },
    "id": "AaQawoB0V_R5",
    "outputId": "57fb16fe-2b90-4c20-d837-7fcd9e9edb50"
   },
   "outputs": [
    {
     "data": {
      "text/plain": [
       "(503470, 13)"
      ]
     },
     "execution_count": 9,
     "metadata": {},
     "output_type": "execute_result"
    }
   ],
   "source": [
    "# Visualizando o total de linhas e de colunas\n",
    "df.shape"
   ]
  },
  {
   "cell_type": "code",
   "execution_count": null,
   "metadata": {
    "colab": {
     "base_uri": "https://localhost:8080/"
    },
    "id": "OE5UZFchWQVf",
    "outputId": "e8e5b112-bb9c-4179-9b71-75ac581d1be6"
   },
   "outputs": [
    {
     "data": {
      "text/plain": [
       "Index(['faixa_etaria', 'idade', 'sexo', 'raca_cor', 'municipio', 'grupo',\n",
       "       'categoria', 'lote', 'vacina_fabricante', 'descricao_dose', 'cnes',\n",
       "       'sistema_origem', 'data_vacinacao'],\n",
       "      dtype='object')"
      ]
     },
     "execution_count": 21,
     "metadata": {},
     "output_type": "execute_result"
    }
   ],
   "source": [
    "# Exibindo todas as colunas \n",
    "df.columns"
   ]
  },
  {
   "cell_type": "code",
   "execution_count": null,
   "metadata": {
    "colab": {
     "base_uri": "https://localhost:8080/"
    },
    "id": "a6g39M0LWm5H",
    "outputId": "16636bb2-bccf-43df-eda8-9e8a4005c3b7"
   },
   "outputs": [
    {
     "data": {
      "text/plain": [
       "faixa_etaria              1\n",
       "idade                     2\n",
       "sexo                     31\n",
       "raca_cor                121\n",
       "municipio                 2\n",
       "grupo                     3\n",
       "categoria            536621\n",
       "lote                    251\n",
       "vacina_fabricante        10\n",
       "descricao_dose           12\n",
       "cnes                     16\n",
       "sistema_origem           19\n",
       "data_vacinacao           19\n",
       "dtype: int64"
      ]
     },
     "execution_count": 22,
     "metadata": {},
     "output_type": "execute_result"
    }
   ],
   "source": [
    "# Verificando valores nulos\n",
    "df.isnull().sum()"
   ]
  },
  {
   "cell_type": "code",
   "execution_count": null,
   "metadata": {
    "colab": {
     "base_uri": "https://localhost:8080/"
    },
    "id": "jjGYAEpKW4Np",
    "outputId": "5cc26504-0e9f-4472-b7e3-5d63d78e5c10"
   },
   "outputs": [
    {
     "data": {
      "text/plain": [
       "array([nan, 'PESSOAS COM OBESIDADE MÓRBIDA',\n",
       "       'PNEUMOPATIAS CRÔNICAS GRAVES', 'DIABETES MELLITUS',\n",
       "       'ARRITMIAS CARDÍACAS', 'CENTRO POP', 'GRÁVIDAS',\n",
       "       'ENSINO BÁSICO PRIVADO', 'MIOCARDIOPATIAS E PERICARDIOPATIAS',\n",
       "       'ENSINO SUPERIOR', 'ENSINO BÁSICO ESTADUAL', 'OUTROS',\n",
       "       'MEMBROS COM DEFORMIDADE CONGÊNITA OU ADQUIRIDA',\n",
       "       'DOENÇA RENAL CRÔNICA', 'OUTRA DEFICIÊNCIA MÚLTIPLA',\n",
       "       'REDE PRIVADA - ENSINO SUPERIOR',\n",
       "       'HIPERTENSÃO ARTERIAL RESISTENTE NOS ESTÁGIOS 1,2 E 3 COM LESÃO EM ÓRGÃO-ALVO E/OU COMORBIDADE.',\n",
       "       'TÉCNICO DE ENFERMAGEM',\n",
       "       'PESSOAS COM DOENÇA RENAL CRÔNICA EM TERAPIA DE SUBSTITUIÇÃO RENAL (DIÁLISE)',\n",
       "       'OUTRA DEFICIÊNCIA INTELECTUAL', 'CARDIOPATIA HIPERTENSIVA',\n",
       "       'PESSOAS VIVENDO COM HIV', 'DEMAIS TRABALHADORES INDUSTRIAIS',\n",
       "       'REDE PÚBLICA - ENSINO SUPERIOR', 'ENFERMEIRO',\n",
       "       'PESSOAS COM OBESIDADE MÓRBIDA (IMC > OU = 40)',\n",
       "       'TRABALHADORES DA CONSTRUÇÃO CIVIL', 'PARAPLEGIA', 'CRAS',\n",
       "       'IMUNOSSUPRIMIDOS', 'AMPUTAÇÃO OU AUSÊNCIA DE MEMBRO',\n",
       "       'REDE PÚBLICA - PRÉ-ESCOLAR', 'CEGUEIRA', 'MOTORISTA',\n",
       "       'ENSINO BÁSICO MUNICIPAL', 'PROFISSIONAIS DE EDUCAÇÃO FISICA',\n",
       "       'BIÓLOGO', 'REDE PRIVADA - ENSINO FUNDAMENTAL',\n",
       "       'OUTRA DEFICIÊNCIA FÍSICA', 'RECEPCIONISTA',\n",
       "       'REDE PÚBLICA - CRECHE', 'REDE PÚBLICA - ENSINO FUNDAMENTAL',\n",
       "       'REDE PÚBLICA - ENSINO MÉDIO', 'CARDIOPATIAS CONGÊNITA NO ADULTO',\n",
       "       'ENSINO BÁSICO FEDERAL', 'LÚPUS ERITEMATOSO SISTÊMICO',\n",
       "       'REDE PRIVADA - PROFISSIONALIZANTES', 'PERDA AUDITIVA TOTAL',\n",
       "       'CIRROSE HEPÁTICA', 'FISIOTERAPEUTA', 'MÉDICO',\n",
       "       'REDE PRIVADA -ENSINO MÉDIO',\n",
       "       'COR-PULMONALE E HIPERTENSÃO PULMONAR', 'ODONTOLOGISTA',\n",
       "       'REDE PRIVADA - PRÉ-ESCOLAR', 'MONOPARESIA',\n",
       "       'DEMAIS TRABALHADORES', 'DOENÇA CEREBROVASCULAR', 'ENSINO BÁSICO',\n",
       "       'CUIDADOR DE IDOSO', 'DOENÇA NEUROLÓGICA CRÔNICA',\n",
       "       'PESSOAL DA LIMPEZA', 'PERDA AUDITIVA BILATERAL',\n",
       "       'PERDA AUDITIVA PARCIAL', 'PARAPARESIA',\n",
       "       'TRANSTORNO GLOBAL DO DESENVOLVIMENTO', 'PUÉRPERAS', 'VALVOPATIAS',\n",
       "       'DEFESA CIVIL', 'BANCÁRIOS', 'EJA', 'HEMOGLOBINOPATIA GRAVES',\n",
       "       'GUARDA MUNICIPAL', 'REDE PÚBLICA - PROFISSIONALIZANTES',\n",
       "       'OUTRA DOENÇA RARA',\n",
       "       'PESSOAS TRANSPLANTADAS DE ÓRGÃO SÓLIDO OU DE MEDULA ÓSSEA',\n",
       "       'MOTORISTA DE AMBULÂNCIA', 'INSUFICIÊNCIA CARDÍACA (IC)',\n",
       "       'DOENÇAS DA AORTA, DOS GRANDES VASOS E FÍSTULAS ARTERIOVENOSAS',\n",
       "       'POLICIAL MILITAR CEDIDO A PCR', 'MÉDICO VETERINÁRIO', 'CTTU',\n",
       "       'REDE PRIVADA - CRECHE', 'PESSOAS COM SÍNDROME DE DOWN',\n",
       "       'PARALISIA CEREBRAL', 'SÍNDROMES CORONARIANAS',\n",
       "       'AUXILIAR DE ENFERMAGEM', 'HEMIPARESIA', 'FONOAUDIOLÓGO',\n",
       "       'BAIXA VISÃO', 'POLICIAL FEDERAL',\n",
       "       'PARAPLEGIA, PARAPARESIA, MONOPLEGIA, MONOPARESIA, TETRAPLEGIA, TETRAPARESIA, TRIPLEGIA, TRIPARESIA, HEMIPLEGIA OU HEMIPARESIA',\n",
       "       'POLICIAL MILITAR', 'MONOPLEGIA', 'OUTRA DEFICIÊNCIA VISUAL',\n",
       "       'TRANSTORNO DO ESPECTRO AUTISTA (TEA)', 'ASSISTÊNCIA SOCIAL',\n",
       "       'DIABATE MELLITUS',\n",
       "       'PRÓTESES VALVARES E DISPOSITIVOS CARDÍACOS IMPLANTADOS',\n",
       "       'COBRADOR', 'PSICÓLOGO', 'CONSELHO TUTELAR',\n",
       "       'OUTRA DEFICIÊNCIA AUDITIVA', 'FARMACÊUTICO',\n",
       "       'PESSOAS COM DEFICIÊNCIA PERMANENTE GRAVE', 'POLICIAL CIVIL',\n",
       "       'CREAS', 'TERAPEUTA OCUPACIONAL', 'BOMBEIRO MILITAR',\n",
       "       'NUTRICIONISTA', 'BIOMÉDICO', 'EXERCITO BRASILEIRO - EB',\n",
       "       'PESSOAS COM DEFICIÊNCIA INSTITUCIONALIZADAS', 'SEGURANÇA',\n",
       "       'POLICIAL RODOVIÁRIO FEDERAL',\n",
       "       'PESSOAS COM DEFICIÊNCIAS  INSTITUCIONALIZADAS', 'TETRAPARESIA',\n",
       "       'OUTRAS', 'ESTUDANTE', 'HIPERTENSÃO ARTERIAL ? ESTÁGIO 3',\n",
       "       'BOMBEIRO CIVIL', 'DOENÇA DE HUNTINGTON',\n",
       "       'COZINHEIRO E AUXILIARES', 'HIPERTENSÃO ARTERIAL RESISTENTE (HAR)',\n",
       "       'HEMIPLEGIA', 'NANISMO', 'DOENÇA DE CHRON',\n",
       "       'TÉCNICO DE ODONTOLOGIA', 'ARRITMIA CARDÍACA', 'TETRAPLEGIA',\n",
       "       'PUÉRPERA', 'OSTOMIA', 'TRABALHADORES DOS CORREIOS',\n",
       "       'FORÇA AEREA BRASILEIRA - FAB', 'AUTISMO', 'DOULA/PARTEIRA',\n",
       "       'MICROCEFALIA', 'SÍNDROME DE DOWN', 'GESTANTE',\n",
       "       'TÉCNICO VETERINÁRIO',\n",
       "       'PRÓTESES VALVARES E DISPOSITIVOS CARDÍACOS',\n",
       "       'AUXILIAR DE VETERINÁRIO', 'OBESIDADE GRAVE', 'TRIPLEGIA',\n",
       "       'CARDIOPATIAS CONGÊNITA',\n",
       "       'DOENÇAS NEUROLÓGICAS CRÔNICAS QUE IMPACTEM NA FUNÇÃO RESPIRATÓRIA, INDIVÍDUOS COM PARALISIA CEREBRAL, ESCLEROSE MÚLTIPLA, E CONDIÇÕES SIMILARES',\n",
       "       'CÂNCER', 'IMUNOSUPRIMIDOS', 'SÍNDROME DE CUSHING',\n",
       "       'SÍNDROME CORNÉLIA DE LANGE', 'OBESIDADE GRAVE (IMC >= 40)',\n",
       "       'ENSINO FUNDAMENTAL', 'DOENÇA PULMONAR OBSTRUTIVA CRÔNICA',\n",
       "       'PESSOAS COM DOENÇA RENAL CRÔNICA',\n",
       "       'HIPERTENSÃO ARTERIAL SISTÊMICA (HAS) ',\n",
       "       'HIPERTENSÃO ARTERIAL ? ESTÁGIOS 1 E 2 (LESÃO EM ÓRGÃO-ALVO OU COMORBIDADE)',\n",
       "       'PARAPLEGIA\\t', 'HIPERTENSÃO ARTERIAL SISTÊMICA (HAS)',\n",
       "       'Conecta Recife', 'DS 4: CNES: 0000639 - UBS JOAQUIM CAVALCANTE',\n",
       "       'PÚBLICO EM GERAL - 18 A 59 ANOS', '2022-10-22 00:00:00.0', '2',\n",
       "       '2022-05-24 00:00:00.0', '2022-08-02 00:00:00.0'], dtype=object)"
      ]
     },
     "execution_count": 24,
     "metadata": {},
     "output_type": "execute_result"
    }
   ],
   "source": [
    "#Verificando os valores únicos para categoria\n",
    "df[\"categoria\"].unique()"
   ]
  },
  {
   "cell_type": "code",
   "execution_count": null,
   "metadata": {
    "colab": {
     "base_uri": "https://localhost:8080/"
    },
    "id": "ItB9spuhXW46",
    "outputId": "b15b7905-35ca-4549-dcac-5a2a14dde03c"
   },
   "outputs": [
    {
     "data": {
      "text/plain": [
       "164"
      ]
     },
     "execution_count": 25,
     "metadata": {},
     "output_type": "execute_result"
    }
   ],
   "source": [
    "#Verificando o total de  valores únicos para categoria\n",
    "df[\"categoria\"].nunique()"
   ]
  },
  {
   "cell_type": "code",
   "execution_count": null,
   "metadata": {
    "colab": {
     "base_uri": "https://localhost:8080/"
    },
    "id": "IUPTpbALXsGX",
    "outputId": "ff2208b9-9f41-4161-b7f0-4e53bb5f9ef3"
   },
   "outputs": [
    {
     "data": {
      "text/plain": [
       "faixa_etaria         object\n",
       "idade                object\n",
       "sexo                 object\n",
       "raca_cor             object\n",
       "municipio            object\n",
       "grupo                object\n",
       "categoria            object\n",
       "lote                 object\n",
       "vacina_fabricante    object\n",
       "descricao_dose       object\n",
       "cnes                 object\n",
       "sistema_origem       object\n",
       "data_vacinacao       object\n",
       "dtype: object"
      ]
     },
     "execution_count": 28,
     "metadata": {},
     "output_type": "execute_result"
    }
   ],
   "source": [
    "# Verificando o tipo de dado para cada coluna\n",
    "df.dtypes"
   ]
  },
  {
   "cell_type": "code",
   "execution_count": null,
   "metadata": {
    "colab": {
     "base_uri": "https://localhost:8080/",
     "height": 225
    },
    "id": "IGdGKBOWX2Gb",
    "outputId": "e28bf28b-d3be-4a93-8abd-17099c251a1a"
   },
   "outputs": [
    {
     "ename": "ValueError",
     "evalue": "ignored",
     "output_type": "error",
     "traceback": [
      "\u001b[0;31m---------------------------------------------------------------------------\u001b[0m",
      "\u001b[0;31mValueError\u001b[0m                                Traceback (most recent call last)",
      "\u001b[0;32m<ipython-input-30-f2658171ca56>\u001b[0m in \u001b[0;36m<cell line: 1>\u001b[0;34m()\u001b[0m\n\u001b[0;32m----> 1\u001b[0;31m \u001b[0mdf\u001b[0m\u001b[0;34m[\u001b[0m\u001b[0;34m\"data_vacinacao\"\u001b[0m\u001b[0;34m]\u001b[0m \u001b[0;34m=\u001b[0m \u001b[0mpd\u001b[0m\u001b[0;34m.\u001b[0m\u001b[0mto_datetime\u001b[0m\u001b[0;34m(\u001b[0m\u001b[0mdf\u001b[0m\u001b[0;34m[\u001b[0m\u001b[0;34m\"data_vacinacao\"\u001b[0m\u001b[0;34m]\u001b[0m\u001b[0;34m,\u001b[0m \u001b[0mformat\u001b[0m\u001b[0;34m=\u001b[0m\u001b[0;34m'%Y-%m-%d %H:%M:%S.%f'\u001b[0m\u001b[0;34m)\u001b[0m\u001b[0;34m\u001b[0m\u001b[0;34m\u001b[0m\u001b[0m\n\u001b[0m",
      "\u001b[0;32m/usr/local/lib/python3.10/dist-packages/pandas/core/tools/datetimes.py\u001b[0m in \u001b[0;36mto_datetime\u001b[0;34m(arg, errors, dayfirst, yearfirst, utc, format, exact, unit, infer_datetime_format, origin, cache)\u001b[0m\n\u001b[1;32m   1062\u001b[0m                 \u001b[0mresult\u001b[0m \u001b[0;34m=\u001b[0m \u001b[0marg\u001b[0m\u001b[0;34m.\u001b[0m\u001b[0mtz_localize\u001b[0m\u001b[0;34m(\u001b[0m\u001b[0mtz\u001b[0m\u001b[0;34m)\u001b[0m\u001b[0;34m\u001b[0m\u001b[0;34m\u001b[0m\u001b[0m\n\u001b[1;32m   1063\u001b[0m     \u001b[0;32melif\u001b[0m \u001b[0misinstance\u001b[0m\u001b[0;34m(\u001b[0m\u001b[0marg\u001b[0m\u001b[0;34m,\u001b[0m \u001b[0mABCSeries\u001b[0m\u001b[0;34m)\u001b[0m\u001b[0;34m:\u001b[0m\u001b[0;34m\u001b[0m\u001b[0;34m\u001b[0m\u001b[0m\n\u001b[0;32m-> 1064\u001b[0;31m         \u001b[0mcache_array\u001b[0m \u001b[0;34m=\u001b[0m \u001b[0m_maybe_cache\u001b[0m\u001b[0;34m(\u001b[0m\u001b[0marg\u001b[0m\u001b[0;34m,\u001b[0m \u001b[0mformat\u001b[0m\u001b[0;34m,\u001b[0m \u001b[0mcache\u001b[0m\u001b[0;34m,\u001b[0m \u001b[0mconvert_listlike\u001b[0m\u001b[0;34m)\u001b[0m\u001b[0;34m\u001b[0m\u001b[0;34m\u001b[0m\u001b[0m\n\u001b[0m\u001b[1;32m   1065\u001b[0m         \u001b[0;32mif\u001b[0m \u001b[0;32mnot\u001b[0m \u001b[0mcache_array\u001b[0m\u001b[0;34m.\u001b[0m\u001b[0mempty\u001b[0m\u001b[0;34m:\u001b[0m\u001b[0;34m\u001b[0m\u001b[0;34m\u001b[0m\u001b[0m\n\u001b[1;32m   1066\u001b[0m             \u001b[0mresult\u001b[0m \u001b[0;34m=\u001b[0m \u001b[0marg\u001b[0m\u001b[0;34m.\u001b[0m\u001b[0mmap\u001b[0m\u001b[0;34m(\u001b[0m\u001b[0mcache_array\u001b[0m\u001b[0;34m)\u001b[0m\u001b[0;34m\u001b[0m\u001b[0;34m\u001b[0m\u001b[0m\n",
      "\u001b[0;32m/usr/local/lib/python3.10/dist-packages/pandas/core/tools/datetimes.py\u001b[0m in \u001b[0;36m_maybe_cache\u001b[0;34m(arg, format, cache, convert_listlike)\u001b[0m\n\u001b[1;32m    227\u001b[0m         \u001b[0munique_dates\u001b[0m \u001b[0;34m=\u001b[0m \u001b[0munique\u001b[0m\u001b[0;34m(\u001b[0m\u001b[0marg\u001b[0m\u001b[0;34m)\u001b[0m\u001b[0;34m\u001b[0m\u001b[0;34m\u001b[0m\u001b[0m\n\u001b[1;32m    228\u001b[0m         \u001b[0;32mif\u001b[0m \u001b[0mlen\u001b[0m\u001b[0;34m(\u001b[0m\u001b[0munique_dates\u001b[0m\u001b[0;34m)\u001b[0m \u001b[0;34m<\u001b[0m \u001b[0mlen\u001b[0m\u001b[0;34m(\u001b[0m\u001b[0marg\u001b[0m\u001b[0;34m)\u001b[0m\u001b[0;34m:\u001b[0m\u001b[0;34m\u001b[0m\u001b[0;34m\u001b[0m\u001b[0m\n\u001b[0;32m--> 229\u001b[0;31m             \u001b[0mcache_dates\u001b[0m \u001b[0;34m=\u001b[0m \u001b[0mconvert_listlike\u001b[0m\u001b[0;34m(\u001b[0m\u001b[0munique_dates\u001b[0m\u001b[0;34m,\u001b[0m \u001b[0mformat\u001b[0m\u001b[0;34m)\u001b[0m\u001b[0;34m\u001b[0m\u001b[0;34m\u001b[0m\u001b[0m\n\u001b[0m\u001b[1;32m    230\u001b[0m             \u001b[0;31m# GH#45319\u001b[0m\u001b[0;34m\u001b[0m\u001b[0;34m\u001b[0m\u001b[0m\n\u001b[1;32m    231\u001b[0m             \u001b[0;32mtry\u001b[0m\u001b[0;34m:\u001b[0m\u001b[0;34m\u001b[0m\u001b[0;34m\u001b[0m\u001b[0m\n",
      "\u001b[0;32m/usr/local/lib/python3.10/dist-packages/pandas/core/tools/datetimes.py\u001b[0m in \u001b[0;36m_convert_listlike_datetimes\u001b[0;34m(arg, format, name, tz, unit, errors, infer_datetime_format, dayfirst, yearfirst, exact)\u001b[0m\n\u001b[1;32m    436\u001b[0m     \u001b[0;32massert\u001b[0m \u001b[0mformat\u001b[0m \u001b[0;32mis\u001b[0m \u001b[0;32mNone\u001b[0m \u001b[0;32mor\u001b[0m \u001b[0minfer_datetime_format\u001b[0m\u001b[0;34m\u001b[0m\u001b[0;34m\u001b[0m\u001b[0m\n\u001b[1;32m    437\u001b[0m     \u001b[0mutc\u001b[0m \u001b[0;34m=\u001b[0m \u001b[0mtz\u001b[0m \u001b[0;34m==\u001b[0m \u001b[0;34m\"utc\"\u001b[0m\u001b[0;34m\u001b[0m\u001b[0;34m\u001b[0m\u001b[0m\n\u001b[0;32m--> 438\u001b[0;31m     result, tz_parsed = objects_to_datetime64ns(\n\u001b[0m\u001b[1;32m    439\u001b[0m         \u001b[0marg\u001b[0m\u001b[0;34m,\u001b[0m\u001b[0;34m\u001b[0m\u001b[0;34m\u001b[0m\u001b[0m\n\u001b[1;32m    440\u001b[0m         \u001b[0mdayfirst\u001b[0m\u001b[0;34m=\u001b[0m\u001b[0mdayfirst\u001b[0m\u001b[0;34m,\u001b[0m\u001b[0;34m\u001b[0m\u001b[0;34m\u001b[0m\u001b[0m\n",
      "\u001b[0;32m/usr/local/lib/python3.10/dist-packages/pandas/core/arrays/datetimes.py\u001b[0m in \u001b[0;36mobjects_to_datetime64ns\u001b[0;34m(data, dayfirst, yearfirst, utc, errors, require_iso8601, allow_object, allow_mixed)\u001b[0m\n\u001b[1;32m   2175\u001b[0m     \u001b[0morder\u001b[0m\u001b[0;34m:\u001b[0m \u001b[0mLiteral\u001b[0m\u001b[0;34m[\u001b[0m\u001b[0;34m\"F\"\u001b[0m\u001b[0;34m,\u001b[0m \u001b[0;34m\"C\"\u001b[0m\u001b[0;34m]\u001b[0m \u001b[0;34m=\u001b[0m \u001b[0;34m\"F\"\u001b[0m \u001b[0;32mif\u001b[0m \u001b[0mflags\u001b[0m\u001b[0;34m.\u001b[0m\u001b[0mf_contiguous\u001b[0m \u001b[0;32melse\u001b[0m \u001b[0;34m\"C\"\u001b[0m\u001b[0;34m\u001b[0m\u001b[0;34m\u001b[0m\u001b[0m\n\u001b[1;32m   2176\u001b[0m     \u001b[0;32mtry\u001b[0m\u001b[0;34m:\u001b[0m\u001b[0;34m\u001b[0m\u001b[0;34m\u001b[0m\u001b[0m\n\u001b[0;32m-> 2177\u001b[0;31m         result, tz_parsed = tslib.array_to_datetime(\n\u001b[0m\u001b[1;32m   2178\u001b[0m             \u001b[0mdata\u001b[0m\u001b[0;34m.\u001b[0m\u001b[0mravel\u001b[0m\u001b[0;34m(\u001b[0m\u001b[0;34m\"K\"\u001b[0m\u001b[0;34m)\u001b[0m\u001b[0;34m,\u001b[0m\u001b[0;34m\u001b[0m\u001b[0;34m\u001b[0m\u001b[0m\n\u001b[1;32m   2179\u001b[0m             \u001b[0merrors\u001b[0m\u001b[0;34m=\u001b[0m\u001b[0merrors\u001b[0m\u001b[0;34m,\u001b[0m\u001b[0;34m\u001b[0m\u001b[0;34m\u001b[0m\u001b[0m\n",
      "\u001b[0;32m/usr/local/lib/python3.10/dist-packages/pandas/_libs/tslib.pyx\u001b[0m in \u001b[0;36mpandas._libs.tslib.array_to_datetime\u001b[0;34m()\u001b[0m\n",
      "\u001b[0;32m/usr/local/lib/python3.10/dist-packages/pandas/_libs/tslib.pyx\u001b[0m in \u001b[0;36mpandas._libs.tslib.array_to_datetime\u001b[0;34m()\u001b[0m\n",
      "\u001b[0;31mValueError\u001b[0m: time data \"2022-2022-07-14 00:00:00.0\" at position 362 doesn't match format specified"
     ]
    }
   ],
   "source": [
    "df[\"data_vacinacao\"] = pd.to_datetime(df[\"data_vacinacao\"])"
   ]
  },
  {
   "cell_type": "code",
   "execution_count": 6,
   "metadata": {
    "id": "0TerwtlLYRlo"
   },
   "outputs": [],
   "source": [
    "# Substitua o valor inválido \"2022-2022\" por \"2022\" na coluna \"data_vacinacao\"\n",
    "df[\"data_vacinacao\"] = df[\"data_vacinacao\"].str.replace('2022-2022', '2022')\n",
    "df[\"data_vacinacao\"] = df[\"data_vacinacao\"].str.replace('2022-022022', '2022')\n",
    "df[\"data_vacinacao\"] = df[\"data_vacinacao\"].str.replace('2022-02-262022', '2022')"
   ]
  },
  {
   "cell_type": "code",
   "execution_count": 7,
   "metadata": {
    "id": "UMiqYgH7ZXv3"
   },
   "outputs": [],
   "source": [
    "df[\"data_vacinacao\"] = pd.to_datetime(df[\"data_vacinacao\"])"
   ]
  },
  {
   "cell_type": "code",
   "execution_count": null,
   "metadata": {
    "colab": {
     "base_uri": "https://localhost:8080/"
    },
    "id": "Ca5VwdIuZa97",
    "outputId": "823a6439-c86f-4c16-d39e-f5918cff7457"
   },
   "outputs": [
    {
     "data": {
      "text/plain": [
       "faixa_etaria                 object\n",
       "idade                        object\n",
       "sexo                         object\n",
       "raca_cor                     object\n",
       "municipio                    object\n",
       "grupo                        object\n",
       "categoria                    object\n",
       "lote                         object\n",
       "vacina_fabricante            object\n",
       "descricao_dose               object\n",
       "cnes                         object\n",
       "sistema_origem               object\n",
       "data_vacinacao       datetime64[ns]\n",
       "dtype: object"
      ]
     },
     "execution_count": 33,
     "metadata": {},
     "output_type": "execute_result"
    }
   ],
   "source": [
    "df.dtypes"
   ]
  },
  {
   "cell_type": "code",
   "execution_count": null,
   "metadata": {
    "colab": {
     "base_uri": "https://localhost:8080/"
    },
    "id": "AF52gt-5ZcX_",
    "outputId": "bab1de22-e3c6-4682-cffc-ee25a59fea62"
   },
   "outputs": [
    {
     "data": {
      "text/plain": [
       "Timestamp('2022-01-03 00:00:00')"
      ]
     },
     "execution_count": 34,
     "metadata": {},
     "output_type": "execute_result"
    }
   ],
   "source": [
    "min(df[\"data_vacinacao\"])"
   ]
  },
  {
   "cell_type": "code",
   "execution_count": null,
   "metadata": {
    "colab": {
     "base_uri": "https://localhost:8080/"
    },
    "id": "s1BErpEGZiNU",
    "outputId": "2169d2d7-04b8-497f-d020-1519661f3bf2"
   },
   "outputs": [
    {
     "data": {
      "text/plain": [
       "Timestamp('2022-12-31 00:00:00')"
      ]
     },
     "execution_count": 35,
     "metadata": {},
     "output_type": "execute_result"
    }
   ],
   "source": [
    "df[\"data_vacinacao\"].max()"
   ]
  },
  {
   "cell_type": "code",
   "execution_count": null,
   "metadata": {
    "colab": {
     "base_uri": "https://localhost:8080/"
    },
    "id": "z3G34hihZmjg",
    "outputId": "c5abcc54-4c2a-4c87-bac3-cc565623de37"
   },
   "outputs": [
    {
     "name": "stdout",
     "output_type": "stream",
     "text": [
      "<class 'pandas.core.frame.DataFrame'>\n",
      "RangeIndex: 651525 entries, 0 to 651524\n",
      "Data columns (total 13 columns):\n",
      " #   Column             Non-Null Count   Dtype         \n",
      "---  ------             --------------   -----         \n",
      " 0   faixa_etaria       651524 non-null  object        \n",
      " 1   idade              651523 non-null  object        \n",
      " 2   sexo               651492 non-null  object        \n",
      " 3   raca_cor           651401 non-null  object        \n",
      " 4   municipio          651523 non-null  object        \n",
      " 5   grupo              651522 non-null  object        \n",
      " 6   categoria          61802 non-null   object        \n",
      " 7   lote               651226 non-null  object        \n",
      " 8   vacina_fabricante  651515 non-null  object        \n",
      " 9   descricao_dose     651513 non-null  object        \n",
      " 10  cnes               651509 non-null  object        \n",
      " 11  sistema_origem     651506 non-null  object        \n",
      " 12  data_vacinacao     651506 non-null  datetime64[ns]\n",
      "dtypes: datetime64[ns](1), object(12)\n",
      "memory usage: 64.6+ MB\n"
     ]
    }
   ],
   "source": [
    "df.info()"
   ]
  },
  {
   "cell_type": "code",
   "execution_count": null,
   "metadata": {
    "colab": {
     "base_uri": "https://localhost:8080/"
    },
    "id": "zMkHu8FiZwYg",
    "outputId": "73b8e8ad-eff4-472f-91b8-2a37dab7ec2e"
   },
   "outputs": [
    {
     "data": {
      "text/plain": [
       "FEMININO                                              363366\n",
       "MASCULINO                                             287208\n",
       "OUTROS                                                   915\n",
       "MASCULIFR8392                                              1\n",
       "FEDS 2: CNES: 6897029 - POLICLÍNICA SALOMÃO KELNER         1\n",
       "FP0362                                                     1\n",
       "Name: sexo, dtype: int64"
      ]
     },
     "execution_count": 37,
     "metadata": {},
     "output_type": "execute_result"
    }
   ],
   "source": [
    "# Total de vacinados por sexo\n",
    "df[\"sexo\"].value_counts()"
   ]
  },
  {
   "cell_type": "code",
   "execution_count": null,
   "metadata": {
    "id": "XNnzXBYqaEVr"
   },
   "outputs": [],
   "source": [
    "sexo = df.loc[(df[\"sexo\"] == \"FEMININO\") | (df[\"sexo\"] == \"MASCULINO\") | (df[\"sexo\"] == \"OUTROS\")]"
   ]
  },
  {
   "cell_type": "code",
   "execution_count": null,
   "metadata": {
    "colab": {
     "base_uri": "https://localhost:8080/"
    },
    "id": "Ah06AfzHaoFD",
    "outputId": "3b01ddae-a9dd-4ebd-80cb-32d30e1f3aca"
   },
   "outputs": [
    {
     "data": {
      "text/plain": [
       "(651489, 13)"
      ]
     },
     "execution_count": 41,
     "metadata": {},
     "output_type": "execute_result"
    }
   ],
   "source": [
    "sexo.shape"
   ]
  },
  {
   "cell_type": "code",
   "execution_count": null,
   "metadata": {
    "colab": {
     "base_uri": "https://localhost:8080/"
    },
    "id": "NtKV0NBnayt8",
    "outputId": "17bb6693-2222-4c3f-d1e4-17cd07c8cdff"
   },
   "outputs": [
    {
     "data": {
      "text/plain": [
       "FEMININO     363366\n",
       "MASCULINO    287208\n",
       "OUTROS          915\n",
       "Name: sexo, dtype: int64"
      ]
     },
     "execution_count": 42,
     "metadata": {},
     "output_type": "execute_result"
    }
   ],
   "source": [
    "sexo[\"sexo\"].value_counts()"
   ]
  },
  {
   "cell_type": "code",
   "execution_count": null,
   "metadata": {
    "colab": {
     "base_uri": "https://localhost:8080/",
     "height": 423
    },
    "id": "yE3aNnSJa3xz",
    "outputId": "2b3232a5-6832-40ed-87b9-659c5d1dd5f3"
   },
   "outputs": [
    {
     "data": {
      "text/plain": [
       "<Axes: ylabel='sexo'>"
      ]
     },
     "execution_count": 43,
     "metadata": {},
     "output_type": "execute_result"
    },
    {
     "data": {
      "image/png": "[encoded data removed]",
      "text/plain": [
       "<Figure size 640x480 with 1 Axes>"
      ]
     },
     "metadata": {},
     "output_type": "display_data"
    }
   ],
   "source": [
    "sexo[\"sexo\"].value_counts().plot.pie()"
   ]
  },
  {
   "cell_type": "code",
   "execution_count": null,
   "metadata": {
    "colab": {
     "base_uri": "https://localhost:8080/",
     "height": 406
    },
    "id": "RZJ5Fd6La_KT",
    "outputId": "e23e7b35-2f3f-4bdb-a714-7d1b9b172269"
   },
   "outputs": [
    {
     "data": {
      "image/png": "[encoded data removed]",
      "text/plain": [
       "<Figure size 640x480 with 1 Axes>"
      ]
     },
     "metadata": {},
     "output_type": "display_data"
    }
   ],
   "source": [
    "# Adicionando o perentual\n",
    "sexo[\"sexo\"].value_counts().plot.pie(autopct='%.2f%%');"
   ]
  },
  {
   "cell_type": "code",
   "execution_count": null,
   "metadata": {
    "colab": {
     "base_uri": "https://localhost:8080/"
    },
    "id": "DnhcgSKUbQ_4",
    "outputId": "a0aad004-fc60-4b05-a898-b0ff6f7c0410"
   },
   "outputs": [
    {
     "data": {
      "text/plain": [
       "array(['TRABALHADORES DA SAÚDE', 'PÚBLICO EM GERAL (18 a 59 anos)',\n",
       "       'IDOSOS', 'TRABALHADORES INDUSTRIAIS E BANCÁRIOS',\n",
       "       'PESSOAS COM COMORBIDADES', 'TRABALHADORES DA ASSISTÊNCIA SOCIAL',\n",
       "       'GESTANTES E PUÉRPERAS', 'CRIANÇAS DE 05 A 11 ANOS',\n",
       "       'TRABALHADORES DA EDUCAÇÃO', 'OUTRAS PRIORIDADES',\n",
       "       'PESSOAS EM SITUAÇÃO DE RUA', 'TRABALHADORES DE TRANSPORTE AÉREO',\n",
       "       'CAMINHONEIROS', 'TRABALHADORES DE TRANSPORTE COLETIVO RODOVIÁRIO',\n",
       "       'TRABALHADORES PORTUÁRIOS', 'TRABALHADORES DA LIMPEZA URBANA',\n",
       "       'PÚBLICO EM GERAL - MENOR DE 18 ANOS',\n",
       "       'TRABALHADORES DE TRANSPORTE METROVIÁRIO E FERROVIÁRIO',\n",
       "       'PESSOAS COM VIAGEM PARA EXTERIOR (ESTUDO/PESQUISA/TRABALHO/TRATAMENTO DE SAÚDE)',\n",
       "       'GESTANTES E PUÉRPERAS NÃO RESIDENTES EM RECIFE',\n",
       "       'CRIANÇAS DE 03 E 04 ANOS',\n",
       "       'TRABALHADORES DE TRANSPORTE AQUAVIÁRIO',\n",
       "       'TRABALHADORES INDUS2022-07-13 00:00:00.0', nan,\n",
       "       'PESSOAS COM DEFICIÊNCIA - 12 A 17 ANOS',\n",
       "       'GESTANTES E PUÉRPERAS - 12 A 17 ANOS',\n",
       "       'PESSOAS COM COMORBIDADES - 12 A 17 ANOS',\n",
       "       'CRIANÇAS DE 05 A 11 ANOS - Prioritárias',\n",
       "       'CRIANÇAS DE 05 A 11 ANOS - Síndrome de Down',\n",
       "       'CRIANÇAS DE 06 MESES A 2 ANOS',\n",
       "       'CRIANÇAS DE 06 MESES A 2 ANOS - Prioritárias',\n",
       "       'DS 2: CNES: 6897029 - POLICLÍNICA SALOMÃO KELNER', '2',\n",
       "       'Conecta Recife', 'CRIANÇA3 - COMIRNATY (PFIZER)',\n",
       "       'PÚBLICO EM GEConecta Recife',\n",
       "       'DS 7: CNES: 0000647 - POLICLINICA CLEMENTINO FRAGA',\n",
       "       'CRIANÇAS6 - CORONAVAC - SINOVAC (BUTANTAN) PEDIÁTRICA',\n",
       "       'CRIANÇAS DE 05 A 1Conecta Recife', '2022-10-01 00:00:00.0'],\n",
       "      dtype=object)"
      ]
     },
     "execution_count": 47,
     "metadata": {},
     "output_type": "execute_result"
    }
   ],
   "source": [
    "df[\"grupo\"].unique()"
   ]
  },
  {
   "cell_type": "code",
   "execution_count": null,
   "metadata": {
    "colab": {
     "base_uri": "https://localhost:8080/",
     "height": 214
    },
    "id": "r53gW8IucVpb",
    "outputId": "f6fd1b2c-4a7c-4675-c9b0-daae0678ec11"
   },
   "outputs": [
    {
     "data": {
      "text/html": [
       "\n",
       "  <div id=\"df-9457e691-017b-46cb-b986-d0bac701990c\">\n",
       "    <div class=\"colab-df-container\">\n",
       "      <div>\n",
       "<style scoped>\n",
       "    .dataframe tbody tr th:only-of-type {\n",
       "        vertical-align: middle;\n",
       "    }\n",
       "\n",
       "    .dataframe tbody tr th {\n",
       "        vertical-align: top;\n",
       "    }\n",
       "\n",
       "    .dataframe thead th {\n",
       "        text-align: right;\n",
       "    }\n",
       "</style>\n",
       "<table border=\"1\" class=\"dataframe\">\n",
       "  <thead>\n",
       "    <tr style=\"text-align: right;\">\n",
       "      <th></th>\n",
       "      <th>faixa_etaria</th>\n",
       "      <th>idade</th>\n",
       "      <th>sexo</th>\n",
       "      <th>raca_cor</th>\n",
       "      <th>municipio</th>\n",
       "      <th>grupo</th>\n",
       "      <th>categoria</th>\n",
       "      <th>lote</th>\n",
       "      <th>vacina_fabricante</th>\n",
       "      <th>descricao_dose</th>\n",
       "      <th>cnes</th>\n",
       "      <th>sistema_origem</th>\n",
       "      <th>data_vacinacao</th>\n",
       "    </tr>\n",
       "  </thead>\n",
       "  <tbody>\n",
       "    <tr>\n",
       "      <th>592468</th>\n",
       "      <td>10 a 14 anos</td>\n",
       "      <td>12.0</td>\n",
       "      <td>MASCULINO</td>\n",
       "      <td>BRADS 5: CNES: 000701 - MATERNIDADE BANDEIRA F...</td>\n",
       "      <td>Conecta Recife</td>\n",
       "      <td>2022-10-01 00:00:00.0</td>\n",
       "      <td>NaN</td>\n",
       "      <td>NaN</td>\n",
       "      <td>NaN</td>\n",
       "      <td>NaN</td>\n",
       "      <td>NaN</td>\n",
       "      <td>NaN</td>\n",
       "      <td>NaT</td>\n",
       "    </tr>\n",
       "  </tbody>\n",
       "</table>\n",
       "</div>\n",
       "      <button class=\"colab-df-convert\" onclick=\"convertToInteractive('df-9457e691-017b-46cb-b986-d0bac701990c')\"\n",
       "              title=\"Convert this dataframe to an interactive table.\"\n",
       "              style=\"display:none;\">\n",
       "        \n",
       "  <svg xmlns=\"http://www.w3.org/2000/svg\" height=\"24px\"viewBox=\"0 0 24 24\"\n",
       "       width=\"24px\">\n",
       "    <path d=\"M0 0h24v24H0V0z\" fill=\"none\"/>\n",
       "    <path d=\"M18.56 5.44l.94 2.06.94-2.06 2.06-.94-2.06-.94-.94-2.06-.94 2.06-2.06.94zm-11 1L8.5 8.5l.94-2.06 2.06-.94-2.06-.94L8.5 2.5l-.94 2.06-2.06.94zm10 10l.94 2.06.94-2.06 2.06-.94-2.06-.94-.94-2.06-.94 2.06-2.06.94z\"/><path d=\"M17.41 7.96l-1.37-1.37c-.4-.4-.92-.59-1.43-.59-.52 0-1.04.2-1.43.59L10.3 9.45l-7.72 7.72c-.78.78-.78 2.05 0 2.83L4 21.41c.39.39.9.59 1.41.59.51 0 1.02-.2 1.41-.59l7.78-7.78 2.81-2.81c.8-.78.8-2.07 0-2.86zM5.41 20L4 18.59l7.72-7.72 1.47 1.35L5.41 20z\"/>\n",
       "  </svg>\n",
       "      </button>\n",
       "      \n",
       "  <style>\n",
       "    .colab-df-container {\n",
       "      display:flex;\n",
       "      flex-wrap:wrap;\n",
       "      gap: 12px;\n",
       "    }\n",
       "\n",
       "    .colab-df-convert {\n",
       "      background-color: #E8F0FE;\n",
       "      border: none;\n",
       "      border-radius: 50%;\n",
       "      cursor: pointer;\n",
       "      display: none;\n",
       "      fill: #1967D2;\n",
       "      height: 32px;\n",
       "      padding: 0 0 0 0;\n",
       "      width: 32px;\n",
       "    }\n",
       "\n",
       "    .colab-df-convert:hover {\n",
       "      background-color: #E2EBFA;\n",
       "      box-shadow: 0px 1px 2px rgba(60, 64, 67, 0.3), 0px 1px 3px 1px rgba(60, 64, 67, 0.15);\n",
       "      fill: #174EA6;\n",
       "    }\n",
       "\n",
       "    [theme=dark] .colab-df-convert {\n",
       "      background-color: #3B4455;\n",
       "      fill: #D2E3FC;\n",
       "    }\n",
       "\n",
       "    [theme=dark] .colab-df-convert:hover {\n",
       "      background-color: #434B5C;\n",
       "      box-shadow: 0px 1px 3px 1px rgba(0, 0, 0, 0.15);\n",
       "      filter: drop-shadow(0px 1px 2px rgba(0, 0, 0, 0.3));\n",
       "      fill: #FFFFFF;\n",
       "    }\n",
       "  </style>\n",
       "\n",
       "      <script>\n",
       "        const buttonEl =\n",
       "          document.querySelector('#df-9457e691-017b-46cb-b986-d0bac701990c button.colab-df-convert');\n",
       "        buttonEl.style.display =\n",
       "          google.colab.kernel.accessAllowed ? 'block' : 'none';\n",
       "\n",
       "        async function convertToInteractive(key) {\n",
       "          const element = document.querySelector('#df-9457e691-017b-46cb-b986-d0bac701990c');\n",
       "          const dataTable =\n",
       "            await google.colab.kernel.invokeFunction('convertToInteractive',\n",
       "                                                     [key], {});\n",
       "          if (!dataTable) return;\n",
       "\n",
       "          const docLinkHtml = 'Like what you see? Visit the ' +\n",
       "            '<a target=\"_blank\" href=https://colab.research.google.com/notebooks/data_table.ipynb>data table notebook</a>'\n",
       "            + ' to learn more about interactive tables.';\n",
       "          element.innerHTML = '';\n",
       "          dataTable['output_type'] = 'display_data';\n",
       "          await google.colab.output.renderOutput(dataTable, element);\n",
       "          const docLink = document.createElement('div');\n",
       "          docLink.innerHTML = docLinkHtml;\n",
       "          element.appendChild(docLink);\n",
       "        }\n",
       "      </script>\n",
       "    </div>\n",
       "  </div>\n",
       "  "
      ],
      "text/plain": [
       "        faixa_etaria idade       sexo  \\\n",
       "592468  10 a 14 anos  12.0  MASCULINO   \n",
       "\n",
       "                                                 raca_cor       municipio  \\\n",
       "592468  BRADS 5: CNES: 000701 - MATERNIDADE BANDEIRA F...  Conecta Recife   \n",
       "\n",
       "                        grupo categoria lote vacina_fabricante descricao_dose  \\\n",
       "592468  2022-10-01 00:00:00.0       NaN  NaN               NaN            NaN   \n",
       "\n",
       "       cnes sistema_origem data_vacinacao  \n",
       "592468  NaN            NaN            NaT  "
      ]
     },
     "execution_count": 49,
     "metadata": {},
     "output_type": "execute_result"
    }
   ],
   "source": [
    "df[df[\"grupo\"] == \"2022-10-01 00:00:00.0\"]"
   ]
  },
  {
   "cell_type": "code",
   "execution_count": null,
   "metadata": {
    "colab": {
     "base_uri": "https://localhost:8080/",
     "height": 617
    },
    "id": "OUpAZ0Urb_oz",
    "outputId": "b2c3e99a-04c5-4d41-d8b5-5848b22b28c4"
   },
   "outputs": [
    {
     "data": {
      "text/html": [
       "\n",
       "  <div id=\"df-5d2bc9df-e104-452d-85a4-1797f9e8f22e\">\n",
       "    <div class=\"colab-df-container\">\n",
       "      <div>\n",
       "<style scoped>\n",
       "    .dataframe tbody tr th:only-of-type {\n",
       "        vertical-align: middle;\n",
       "    }\n",
       "\n",
       "    .dataframe tbody tr th {\n",
       "        vertical-align: top;\n",
       "    }\n",
       "\n",
       "    .dataframe thead th {\n",
       "        text-align: right;\n",
       "    }\n",
       "</style>\n",
       "<table border=\"1\" class=\"dataframe\">\n",
       "  <thead>\n",
       "    <tr style=\"text-align: right;\">\n",
       "      <th></th>\n",
       "      <th>faixa_etaria</th>\n",
       "      <th>idade</th>\n",
       "      <th>sexo</th>\n",
       "      <th>raca_cor</th>\n",
       "      <th>municipio</th>\n",
       "      <th>grupo</th>\n",
       "      <th>categoria</th>\n",
       "      <th>lote</th>\n",
       "      <th>vacina_fabricante</th>\n",
       "      <th>descricao_dose</th>\n",
       "      <th>cnes</th>\n",
       "      <th>sistema_origem</th>\n",
       "      <th>data_vacinacao</th>\n",
       "    </tr>\n",
       "  </thead>\n",
       "  <tbody>\n",
       "    <tr>\n",
       "      <th>0</th>\n",
       "      <td>40 a 44 anos</td>\n",
       "      <td>41</td>\n",
       "      <td>FEMININO</td>\n",
       "      <td>BRANCA</td>\n",
       "      <td>RECIFE</td>\n",
       "      <td>TRABALHADORES DA SAÚDE</td>\n",
       "      <td>NaN</td>\n",
       "      <td>222VCD045W</td>\n",
       "      <td>2 - CHADOX1NCOV-19 - OXFORD/ASTRAZENECA (FIOCRUZ)</td>\n",
       "      <td>4.0</td>\n",
       "      <td>DS 6: CNES: 0001392 - MIGUEL DE LIMA VALVERDE.</td>\n",
       "      <td>Conecta Recife</td>\n",
       "      <td>2022-10-29</td>\n",
       "    </tr>\n",
       "    <tr>\n",
       "      <th>1</th>\n",
       "      <td>40 a 44 anos</td>\n",
       "      <td>43</td>\n",
       "      <td>MASCULINO</td>\n",
       "      <td>BRANCA</td>\n",
       "      <td>RECIFE</td>\n",
       "      <td>PÚBLICO EM GERAL (18 a 59 anos)</td>\n",
       "      <td>NaN</td>\n",
       "      <td>223VCD072W</td>\n",
       "      <td>2 - CHADOX1NCOV-19 - OXFORD/ASTRAZENECA (FIOCRUZ)</td>\n",
       "      <td>3.0</td>\n",
       "      <td>DS 6: CNES: 0001392 - MIGUEL DE LIMA VALVERDE.</td>\n",
       "      <td>Conecta Recife</td>\n",
       "      <td>2022-08-03</td>\n",
       "    </tr>\n",
       "    <tr>\n",
       "      <th>2</th>\n",
       "      <td>80 a 84 anos</td>\n",
       "      <td>80</td>\n",
       "      <td>FEMININO</td>\n",
       "      <td>BRANCA</td>\n",
       "      <td>RECIFE</td>\n",
       "      <td>IDOSOS</td>\n",
       "      <td>NaN</td>\n",
       "      <td>21PVCD356Z</td>\n",
       "      <td>2 - CHADOX1NCOV-19 - OXFORD/ASTRAZENECA (FIOCRUZ)</td>\n",
       "      <td>4.0</td>\n",
       "      <td>DS 4: CNES: 0000639 - UBS JOAQUIM CAVALCANTE</td>\n",
       "      <td>Conecta Recife</td>\n",
       "      <td>2022-04-30</td>\n",
       "    </tr>\n",
       "    <tr>\n",
       "      <th>3</th>\n",
       "      <td>55 a 59 anos</td>\n",
       "      <td>55</td>\n",
       "      <td>FEMININO</td>\n",
       "      <td>BRANCA</td>\n",
       "      <td>RECIFE</td>\n",
       "      <td>PÚBLICO EM GERAL (18 a 59 anos)</td>\n",
       "      <td>NaN</td>\n",
       "      <td>223VCD072W</td>\n",
       "      <td>2 - CHADOX1NCOV-19 - OXFORD/ASTRAZENECA (FIOCRUZ)</td>\n",
       "      <td>4.0</td>\n",
       "      <td>DS 2: CNES: 6897029 - POLICLÍNICA SALOMÃO KELNER</td>\n",
       "      <td>Conecta Recife</td>\n",
       "      <td>2022-08-09</td>\n",
       "    </tr>\n",
       "    <tr>\n",
       "      <th>4</th>\n",
       "      <td>45 a 49 anos</td>\n",
       "      <td>45</td>\n",
       "      <td>FEMININO</td>\n",
       "      <td>PARDA</td>\n",
       "      <td>RECIFE</td>\n",
       "      <td>PÚBLICO EM GERAL (18 a 59 anos)</td>\n",
       "      <td>NaN</td>\n",
       "      <td>202001</td>\n",
       "      <td>3 - COMIRNATY (PFIZER)</td>\n",
       "      <td>3.0</td>\n",
       "      <td>DS 7: CNES: 0000647 - POLICLINICA CLEMENTINO F...</td>\n",
       "      <td>Conecta Recife</td>\n",
       "      <td>2022-10-15</td>\n",
       "    </tr>\n",
       "  </tbody>\n",
       "</table>\n",
       "</div>\n",
       "      <button class=\"colab-df-convert\" onclick=\"convertToInteractive('df-5d2bc9df-e104-452d-85a4-1797f9e8f22e')\"\n",
       "              title=\"Convert this dataframe to an interactive table.\"\n",
       "              style=\"display:none;\">\n",
       "        \n",
       "  <svg xmlns=\"http://www.w3.org/2000/svg\" height=\"24px\"viewBox=\"0 0 24 24\"\n",
       "       width=\"24px\">\n",
       "    <path d=\"M0 0h24v24H0V0z\" fill=\"none\"/>\n",
       "    <path d=\"M18.56 5.44l.94 2.06.94-2.06 2.06-.94-2.06-.94-.94-2.06-.94 2.06-2.06.94zm-11 1L8.5 8.5l.94-2.06 2.06-.94-2.06-.94L8.5 2.5l-.94 2.06-2.06.94zm10 10l.94 2.06.94-2.06 2.06-.94-2.06-.94-.94-2.06-.94 2.06-2.06.94z\"/><path d=\"M17.41 7.96l-1.37-1.37c-.4-.4-.92-.59-1.43-.59-.52 0-1.04.2-1.43.59L10.3 9.45l-7.72 7.72c-.78.78-.78 2.05 0 2.83L4 21.41c.39.39.9.59 1.41.59.51 0 1.02-.2 1.41-.59l7.78-7.78 2.81-2.81c.8-.78.8-2.07 0-2.86zM5.41 20L4 18.59l7.72-7.72 1.47 1.35L5.41 20z\"/>\n",
       "  </svg>\n",
       "      </button>\n",
       "      \n",
       "  <style>\n",
       "    .colab-df-container {\n",
       "      display:flex;\n",
       "      flex-wrap:wrap;\n",
       "      gap: 12px;\n",
       "    }\n",
       "\n",
       "    .colab-df-convert {\n",
       "      background-color: #E8F0FE;\n",
       "      border: none;\n",
       "      border-radius: 50%;\n",
       "      cursor: pointer;\n",
       "      display: none;\n",
       "      fill: #1967D2;\n",
       "      height: 32px;\n",
       "      padding: 0 0 0 0;\n",
       "      width: 32px;\n",
       "    }\n",
       "\n",
       "    .colab-df-convert:hover {\n",
       "      background-color: #E2EBFA;\n",
       "      box-shadow: 0px 1px 2px rgba(60, 64, 67, 0.3), 0px 1px 3px 1px rgba(60, 64, 67, 0.15);\n",
       "      fill: #174EA6;\n",
       "    }\n",
       "\n",
       "    [theme=dark] .colab-df-convert {\n",
       "      background-color: #3B4455;\n",
       "      fill: #D2E3FC;\n",
       "    }\n",
       "\n",
       "    [theme=dark] .colab-df-convert:hover {\n",
       "      background-color: #434B5C;\n",
       "      box-shadow: 0px 1px 3px 1px rgba(0, 0, 0, 0.15);\n",
       "      filter: drop-shadow(0px 1px 2px rgba(0, 0, 0, 0.3));\n",
       "      fill: #FFFFFF;\n",
       "    }\n",
       "  </style>\n",
       "\n",
       "      <script>\n",
       "        const buttonEl =\n",
       "          document.querySelector('#df-5d2bc9df-e104-452d-85a4-1797f9e8f22e button.colab-df-convert');\n",
       "        buttonEl.style.display =\n",
       "          google.colab.kernel.accessAllowed ? 'block' : 'none';\n",
       "\n",
       "        async function convertToInteractive(key) {\n",
       "          const element = document.querySelector('#df-5d2bc9df-e104-452d-85a4-1797f9e8f22e');\n",
       "          const dataTable =\n",
       "            await google.colab.kernel.invokeFunction('convertToInteractive',\n",
       "                                                     [key], {});\n",
       "          if (!dataTable) return;\n",
       "\n",
       "          const docLinkHtml = 'Like what you see? Visit the ' +\n",
       "            '<a target=\"_blank\" href=https://colab.research.google.com/notebooks/data_table.ipynb>data table notebook</a>'\n",
       "            + ' to learn more about interactive tables.';\n",
       "          element.innerHTML = '';\n",
       "          dataTable['output_type'] = 'display_data';\n",
       "          await google.colab.output.renderOutput(dataTable, element);\n",
       "          const docLink = document.createElement('div');\n",
       "          docLink.innerHTML = docLinkHtml;\n",
       "          element.appendChild(docLink);\n",
       "        }\n",
       "      </script>\n",
       "    </div>\n",
       "  </div>\n",
       "  "
      ],
      "text/plain": [
       "   faixa_etaria idade       sexo raca_cor municipio  \\\n",
       "0  40 a 44 anos    41   FEMININO   BRANCA    RECIFE   \n",
       "1  40 a 44 anos    43  MASCULINO   BRANCA    RECIFE   \n",
       "2  80 a 84 anos    80   FEMININO   BRANCA    RECIFE   \n",
       "3  55 a 59 anos    55   FEMININO   BRANCA    RECIFE   \n",
       "4  45 a 49 anos    45   FEMININO    PARDA    RECIFE   \n",
       "\n",
       "                             grupo categoria        lote  \\\n",
       "0           TRABALHADORES DA SAÚDE       NaN  222VCD045W   \n",
       "1  PÚBLICO EM GERAL (18 a 59 anos)       NaN  223VCD072W   \n",
       "2                           IDOSOS       NaN  21PVCD356Z   \n",
       "3  PÚBLICO EM GERAL (18 a 59 anos)       NaN  223VCD072W   \n",
       "4  PÚBLICO EM GERAL (18 a 59 anos)       NaN      202001   \n",
       "\n",
       "                                   vacina_fabricante descricao_dose  \\\n",
       "0  2 - CHADOX1NCOV-19 - OXFORD/ASTRAZENECA (FIOCRUZ)            4.0   \n",
       "1  2 - CHADOX1NCOV-19 - OXFORD/ASTRAZENECA (FIOCRUZ)            3.0   \n",
       "2  2 - CHADOX1NCOV-19 - OXFORD/ASTRAZENECA (FIOCRUZ)            4.0   \n",
       "3  2 - CHADOX1NCOV-19 - OXFORD/ASTRAZENECA (FIOCRUZ)            4.0   \n",
       "4                             3 - COMIRNATY (PFIZER)            3.0   \n",
       "\n",
       "                                                cnes  sistema_origem  \\\n",
       "0     DS 6: CNES: 0001392 - MIGUEL DE LIMA VALVERDE.  Conecta Recife   \n",
       "1     DS 6: CNES: 0001392 - MIGUEL DE LIMA VALVERDE.  Conecta Recife   \n",
       "2       DS 4: CNES: 0000639 - UBS JOAQUIM CAVALCANTE  Conecta Recife   \n",
       "3   DS 2: CNES: 6897029 - POLICLÍNICA SALOMÃO KELNER  Conecta Recife   \n",
       "4  DS 7: CNES: 0000647 - POLICLINICA CLEMENTINO F...  Conecta Recife   \n",
       "\n",
       "  data_vacinacao  \n",
       "0     2022-10-29  \n",
       "1     2022-08-03  \n",
       "2     2022-04-30  \n",
       "3     2022-08-09  \n",
       "4     2022-10-15  "
      ]
     },
     "execution_count": 50,
     "metadata": {},
     "output_type": "execute_result"
    }
   ],
   "source": [
    "df[df[\"grupo\"] != \"2022-10-01 00:00:00.0\"].head()"
   ]
  },
  {
   "cell_type": "code",
   "execution_count": null,
   "metadata": {
    "id": "vuIB1qbgcL8_"
   },
   "outputs": [],
   "source": [
    "df = df.drop(df[df[\"grupo\"] == \"2022-10-01 00:00:00.0\"].index)"
   ]
  },
  {
   "cell_type": "code",
   "execution_count": null,
   "metadata": {
    "colab": {
     "base_uri": "https://localhost:8080/"
    },
    "id": "CTWd1JYndKSj",
    "outputId": "1ac5828e-1d04-4053-d23e-dff828e5ade7"
   },
   "outputs": [
    {
     "data": {
      "text/plain": [
       "array(['TRABALHADORES DA SAÚDE', 'PÚBLICO EM GERAL (18 a 59 anos)',\n",
       "       'IDOSOS', 'TRABALHADORES INDUSTRIAIS E BANCÁRIOS',\n",
       "       'PESSOAS COM COMORBIDADES', 'TRABALHADORES DA ASSISTÊNCIA SOCIAL',\n",
       "       'GESTANTES E PUÉRPERAS', 'CRIANÇAS DE 05 A 11 ANOS',\n",
       "       'TRABALHADORES DA EDUCAÇÃO', 'OUTRAS PRIORIDADES',\n",
       "       'PESSOAS EM SITUAÇÃO DE RUA', 'TRABALHADORES DE TRANSPORTE AÉREO',\n",
       "       'CAMINHONEIROS', 'TRABALHADORES DE TRANSPORTE COLETIVO RODOVIÁRIO',\n",
       "       'TRABALHADORES PORTUÁRIOS', 'TRABALHADORES DA LIMPEZA URBANA',\n",
       "       'PÚBLICO EM GERAL - MENOR DE 18 ANOS',\n",
       "       'TRABALHADORES DE TRANSPORTE METROVIÁRIO E FERROVIÁRIO',\n",
       "       'PESSOAS COM VIAGEM PARA EXTERIOR (ESTUDO/PESQUISA/TRABALHO/TRATAMENTO DE SAÚDE)',\n",
       "       'GESTANTES E PUÉRPERAS NÃO RESIDENTES EM RECIFE',\n",
       "       'CRIANÇAS DE 03 E 04 ANOS',\n",
       "       'TRABALHADORES DE TRANSPORTE AQUAVIÁRIO',\n",
       "       'TRABALHADORES INDUS2022-07-13 00:00:00.0', nan,\n",
       "       'PESSOAS COM DEFICIÊNCIA - 12 A 17 ANOS',\n",
       "       'GESTANTES E PUÉRPERAS - 12 A 17 ANOS',\n",
       "       'PESSOAS COM COMORBIDADES - 12 A 17 ANOS',\n",
       "       'CRIANÇAS DE 05 A 11 ANOS - Prioritárias',\n",
       "       'CRIANÇAS DE 05 A 11 ANOS - Síndrome de Down',\n",
       "       'CRIANÇAS DE 06 MESES A 2 ANOS',\n",
       "       'CRIANÇAS DE 06 MESES A 2 ANOS - Prioritárias',\n",
       "       'DS 2: CNES: 6897029 - POLICLÍNICA SALOMÃO KELNER', '2',\n",
       "       'Conecta Recife', 'CRIANÇA3 - COMIRNATY (PFIZER)',\n",
       "       'PÚBLICO EM GEConecta Recife',\n",
       "       'DS 7: CNES: 0000647 - POLICLINICA CLEMENTINO FRAGA',\n",
       "       'CRIANÇAS6 - CORONAVAC - SINOVAC (BUTANTAN) PEDIÁTRICA',\n",
       "       'CRIANÇAS DE 05 A 1Conecta Recife'], dtype=object)"
      ]
     },
     "execution_count": 52,
     "metadata": {},
     "output_type": "execute_result"
    }
   ],
   "source": [
    "df[\"grupo\"].unique()"
   ]
  },
  {
   "cell_type": "code",
   "execution_count": null,
   "metadata": {
    "colab": {
     "base_uri": "https://localhost:8080/",
     "height": 434
    },
    "id": "ZYIhzjgEdNuP",
    "outputId": "707551b1-ee52-49c5-f12c-f97777ae8dd1"
   },
   "outputs": [
    {
     "data": {
      "text/plain": [
       "<Axes: >"
      ]
     },
     "execution_count": 56,
     "metadata": {},
     "output_type": "execute_result"
    },
    {
     "data": {
      "image/png": "[encoded data removed]",
      "text/plain": [
       "<Figure size 640x480 with 1 Axes>"
      ]
     },
     "metadata": {},
     "output_type": "display_data"
    }
   ],
   "source": [
    "df[\"grupo\"].value_counts(ascending=True).plot.barh()"
   ]
  },
  {
   "cell_type": "code",
   "execution_count": null,
   "metadata": {
    "colab": {
     "base_uri": "https://localhost:8080/",
     "height": 452
    },
    "id": "ZeXq55mzdh4b",
    "outputId": "4d22b791-64d8-47c8-a362-868bc31b1699"
   },
   "outputs": [
    {
     "data": {
      "image/png": "[encoded data removed]",
      "text/plain": [
       "<Figure size 640x480 with 1 Axes>"
      ]
     },
     "metadata": {},
     "output_type": "display_data"
    }
   ],
   "source": [
    "# Top 10\n",
    "df[\"grupo\"].value_counts().nlargest(10).sort_values(ascending=True).plot.barh(title = \"Top 10 vacinados por grupo\");"
   ]
  },
  {
   "cell_type": "code",
   "execution_count": null,
   "metadata": {
    "colab": {
     "base_uri": "https://localhost:8080/",
     "height": 542
    },
    "id": "QgP7X6tceHBn",
    "outputId": "75c72a18-807f-4a26-bb5f-242c57b53ab8"
   },
   "outputs": [],
   "source": [
    "top_10 = df[\"grupo\"].value_counts().nlargest(10).sort_values(ascending=True)\n",
    "\n",
    "fig = px.bar(top_10, orientation='h', title=\"Top 10 vacinados por grupo\")\n",
    "fig.show(\"png\")"
   ]
  },
  {
   "cell_type": "code",
   "execution_count": null,
   "metadata": {
    "colab": {
     "base_uri": "https://localhost:8080/",
     "height": 542
    },
    "id": "tgco5EzSfFgt",
    "outputId": "9b27775c-ce53-42e9-a1e1-aaa7aa2012d4"
   },
   "outputs": [
    {
     "data": {
      "text/html": [
       "<html>\n",
       "<head><meta charset=\"utf-8\" /></head>\n",
       "<body>\n",
       "    <div>            <script src=\"https://cdnjs.cloudflare.com/ajax/libs/mathjax/2.7.5/MathJax.js?config=TeX-AMS-MML_SVG\"></script><script type=\"text/javascript\">if (window.MathJax && window.MathJax.Hub && window.MathJax.Hub.Config) {window.MathJax.Hub.Config({SVG: {font: \"STIX-Web\"}});}</script>                <script type=\"text/javascript\">window.PlotlyConfig = {MathJaxConfig: 'local'};</script>\n",
       "        <script src=\"https://cdn.plot.ly/plotly-2.18.2.min.js\"></script>                <div id=\"b88d2311-fb2f-4653-bcd7-ce0584f296b8\" class=\"plotly-graph-div\" style=\"height:525px; width:100%;\"></div>            <script type=\"text/javascript\">                                    window.PLOTLYENV=window.PLOTLYENV || {};                                    if (document.getElementById(\"b88d2311-fb2f-4653-bcd7-ce0584f296b8\")) {                    Plotly.newPlot(                        \"b88d2311-fb2f-4653-bcd7-ce0584f296b8\",                        [{\"alignmentgroup\":\"True\",\"hovertemplate\":\"variable=grupo<br>value=%{x}<br>index=%{y}<br>text=%{text}<extra></extra>\",\"legendgroup\":\"grupo\",\"marker\":{\"color\":\"#636efa\",\"pattern\":{\"shape\":\"\"}},\"name\":\"grupo\",\"offsetgroup\":\"grupo\",\"orientation\":\"h\",\"showlegend\":true,\"text\":[6001.0,7375.0,10932.0,14173.0,20671.0,37240.0,39579.0,79417.0,104095.0,315327.0],\"textposition\":\"auto\",\"x\":[6001,7375,10932,14173,20671,37240,39579,79417,104095,315327],\"xaxis\":\"x\",\"y\":[\"TRABALHADORES INDUSTRIAIS E BANC\\u00c1RIOS\",\"GESTANTES E PU\\u00c9RPERAS\",\"CRIAN\\u00c7AS DE 03 E 04 ANOS\",\"TRABALHADORES DA EDUCA\\u00c7\\u00c3O\",\"PESSOAS COM COMORBIDADES\",\"P\\u00daBLICO EM GERAL - MENOR DE 18 ANOS\",\"TRABALHADORES DA SA\\u00daDE\",\"CRIAN\\u00c7AS DE 05 A 11 ANOS\",\"IDOSOS\",\"P\\u00daBLICO EM GERAL (18 a 59 anos)\"],\"yaxis\":\"y\",\"type\":\"bar\"}],                        {\"template\":{\"data\":{\"histogram2dcontour\":[{\"type\":\"histogram2dcontour\",\"colorbar\":{\"outlinewidth\":0,\"ticks\":\"\"},\"colorscale\":[[0.0,\"#0d0887\"],[0.1111111111111111,\"#46039f\"],[0.2222222222222222,\"#7201a8\"],[0.3333333333333333,\"#9c179e\"],[0.4444444444444444,\"#bd3786\"],[0.5555555555555556,\"#d8576b\"],[0.6666666666666666,\"#ed7953\"],[0.7777777777777778,\"#fb9f3a\"],[0.8888888888888888,\"#fdca26\"],[1.0,\"#f0f921\"]]}],\"choropleth\":[{\"type\":\"choropleth\",\"colorbar\":{\"outlinewidth\":0,\"ticks\":\"\"}}],\"histogram2d\":[{\"type\":\"histogram2d\",\"colorbar\":{\"outlinewidth\":0,\"ticks\":\"\"},\"colorscale\":[[0.0,\"#0d0887\"],[0.1111111111111111,\"#46039f\"],[0.2222222222222222,\"#7201a8\"],[0.3333333333333333,\"#9c179e\"],[0.4444444444444444,\"#bd3786\"],[0.5555555555555556,\"#d8576b\"],[0.6666666666666666,\"#ed7953\"],[0.7777777777777778,\"#fb9f3a\"],[0.8888888888888888,\"#fdca26\"],[1.0,\"#f0f921\"]]}],\"heatmap\":[{\"type\":\"heatmap\",\"colorbar\":{\"outlinewidth\":0,\"ticks\":\"\"},\"colorscale\":[[0.0,\"#0d0887\"],[0.1111111111111111,\"#46039f\"],[0.2222222222222222,\"#7201a8\"],[0.3333333333333333,\"#9c179e\"],[0.4444444444444444,\"#bd3786\"],[0.5555555555555556,\"#d8576b\"],[0.6666666666666666,\"#ed7953\"],[0.7777777777777778,\"#fb9f3a\"],[0.8888888888888888,\"#fdca26\"],[1.0,\"#f0f921\"]]}],\"heatmapgl\":[{\"type\":\"heatmapgl\",\"colorbar\":{\"outlinewidth\":0,\"ticks\":\"\"},\"colorscale\":[[0.0,\"#0d0887\"],[0.1111111111111111,\"#46039f\"],[0.2222222222222222,\"#7201a8\"],[0.3333333333333333,\"#9c179e\"],[0.4444444444444444,\"#bd3786\"],[0.5555555555555556,\"#d8576b\"],[0.6666666666666666,\"#ed7953\"],[0.7777777777777778,\"#fb9f3a\"],[0.8888888888888888,\"#fdca26\"],[1.0,\"#f0f921\"]]}],\"contourcarpet\":[{\"type\":\"contourcarpet\",\"colorbar\":{\"outlinewidth\":0,\"ticks\":\"\"}}],\"contour\":[{\"type\":\"contour\",\"colorbar\":{\"outlinewidth\":0,\"ticks\":\"\"},\"colorscale\":[[0.0,\"#0d0887\"],[0.1111111111111111,\"#46039f\"],[0.2222222222222222,\"#7201a8\"],[0.3333333333333333,\"#9c179e\"],[0.4444444444444444,\"#bd3786\"],[0.5555555555555556,\"#d8576b\"],[0.6666666666666666,\"#ed7953\"],[0.7777777777777778,\"#fb9f3a\"],[0.8888888888888888,\"#fdca26\"],[1.0,\"#f0f921\"]]}],\"surface\":[{\"type\":\"surface\",\"colorbar\":{\"outlinewidth\":0,\"ticks\":\"\"},\"colorscale\":[[0.0,\"#0d0887\"],[0.1111111111111111,\"#46039f\"],[0.2222222222222222,\"#7201a8\"],[0.3333333333333333,\"#9c179e\"],[0.4444444444444444,\"#bd3786\"],[0.5555555555555556,\"#d8576b\"],[0.6666666666666666,\"#ed7953\"],[0.7777777777777778,\"#fb9f3a\"],[0.8888888888888888,\"#fdca26\"],[1.0,\"#f0f921\"]]}],\"mesh3d\":[{\"type\":\"mesh3d\",\"colorbar\":{\"outlinewidth\":0,\"ticks\":\"\"}}],\"scatter\":[{\"fillpattern\":{\"fillmode\":\"overlay\",\"size\":10,\"solidity\":0.2},\"type\":\"scatter\"}],\"parcoords\":[{\"type\":\"parcoords\",\"line\":{\"colorbar\":{\"outlinewidth\":0,\"ticks\":\"\"}}}],\"scatterpolargl\":[{\"type\":\"scatterpolargl\",\"marker\":{\"colorbar\":{\"outlinewidth\":0,\"ticks\":\"\"}}}],\"bar\":[{\"error_x\":{\"color\":\"#2a3f5f\"},\"error_y\":{\"color\":\"#2a3f5f\"},\"marker\":{\"line\":{\"color\":\"#E5ECF6\",\"width\":0.5},\"pattern\":{\"fillmode\":\"overlay\",\"size\":10,\"solidity\":0.2}},\"type\":\"bar\"}],\"scattergeo\":[{\"type\":\"scattergeo\",\"marker\":{\"colorbar\":{\"outlinewidth\":0,\"ticks\":\"\"}}}],\"scatterpolar\":[{\"type\":\"scatterpolar\",\"marker\":{\"colorbar\":{\"outlinewidth\":0,\"ticks\":\"\"}}}],\"histogram\":[{\"marker\":{\"pattern\":{\"fillmode\":\"overlay\",\"size\":10,\"solidity\":0.2}},\"type\":\"histogram\"}],\"scattergl\":[{\"type\":\"scattergl\",\"marker\":{\"colorbar\":{\"outlinewidth\":0,\"ticks\":\"\"}}}],\"scatter3d\":[{\"type\":\"scatter3d\",\"line\":{\"colorbar\":{\"outlinewidth\":0,\"ticks\":\"\"}},\"marker\":{\"colorbar\":{\"outlinewidth\":0,\"ticks\":\"\"}}}],\"scattermapbox\":[{\"type\":\"scattermapbox\",\"marker\":{\"colorbar\":{\"outlinewidth\":0,\"ticks\":\"\"}}}],\"scatterternary\":[{\"type\":\"scatterternary\",\"marker\":{\"colorbar\":{\"outlinewidth\":0,\"ticks\":\"\"}}}],\"scattercarpet\":[{\"type\":\"scattercarpet\",\"marker\":{\"colorbar\":{\"outlinewidth\":0,\"ticks\":\"\"}}}],\"carpet\":[{\"aaxis\":{\"endlinecolor\":\"#2a3f5f\",\"gridcolor\":\"white\",\"linecolor\":\"white\",\"minorgridcolor\":\"white\",\"startlinecolor\":\"#2a3f5f\"},\"baxis\":{\"endlinecolor\":\"#2a3f5f\",\"gridcolor\":\"white\",\"linecolor\":\"white\",\"minorgridcolor\":\"white\",\"startlinecolor\":\"#2a3f5f\"},\"type\":\"carpet\"}],\"table\":[{\"cells\":{\"fill\":{\"color\":\"#EBF0F8\"},\"line\":{\"color\":\"white\"}},\"header\":{\"fill\":{\"color\":\"#C8D4E3\"},\"line\":{\"color\":\"white\"}},\"type\":\"table\"}],\"barpolar\":[{\"marker\":{\"line\":{\"color\":\"#E5ECF6\",\"width\":0.5},\"pattern\":{\"fillmode\":\"overlay\",\"size\":10,\"solidity\":0.2}},\"type\":\"barpolar\"}],\"pie\":[{\"automargin\":true,\"type\":\"pie\"}]},\"layout\":{\"autotypenumbers\":\"strict\",\"colorway\":[\"#636efa\",\"#EF553B\",\"#00cc96\",\"#ab63fa\",\"#FFA15A\",\"#19d3f3\",\"#FF6692\",\"#B6E880\",\"#FF97FF\",\"#FECB52\"],\"font\":{\"color\":\"#2a3f5f\"},\"hovermode\":\"closest\",\"hoverlabel\":{\"align\":\"left\"},\"paper_bgcolor\":\"white\",\"plot_bgcolor\":\"#E5ECF6\",\"polar\":{\"bgcolor\":\"#E5ECF6\",\"angularaxis\":{\"gridcolor\":\"white\",\"linecolor\":\"white\",\"ticks\":\"\"},\"radialaxis\":{\"gridcolor\":\"white\",\"linecolor\":\"white\",\"ticks\":\"\"}},\"ternary\":{\"bgcolor\":\"#E5ECF6\",\"aaxis\":{\"gridcolor\":\"white\",\"linecolor\":\"white\",\"ticks\":\"\"},\"baxis\":{\"gridcolor\":\"white\",\"linecolor\":\"white\",\"ticks\":\"\"},\"caxis\":{\"gridcolor\":\"white\",\"linecolor\":\"white\",\"ticks\":\"\"}},\"coloraxis\":{\"colorbar\":{\"outlinewidth\":0,\"ticks\":\"\"}},\"colorscale\":{\"sequential\":[[0.0,\"#0d0887\"],[0.1111111111111111,\"#46039f\"],[0.2222222222222222,\"#7201a8\"],[0.3333333333333333,\"#9c179e\"],[0.4444444444444444,\"#bd3786\"],[0.5555555555555556,\"#d8576b\"],[0.6666666666666666,\"#ed7953\"],[0.7777777777777778,\"#fb9f3a\"],[0.8888888888888888,\"#fdca26\"],[1.0,\"#f0f921\"]],\"sequentialminus\":[[0.0,\"#0d0887\"],[0.1111111111111111,\"#46039f\"],[0.2222222222222222,\"#7201a8\"],[0.3333333333333333,\"#9c179e\"],[0.4444444444444444,\"#bd3786\"],[0.5555555555555556,\"#d8576b\"],[0.6666666666666666,\"#ed7953\"],[0.7777777777777778,\"#fb9f3a\"],[0.8888888888888888,\"#fdca26\"],[1.0,\"#f0f921\"]],\"diverging\":[[0,\"#8e0152\"],[0.1,\"#c51b7d\"],[0.2,\"#de77ae\"],[0.3,\"#f1b6da\"],[0.4,\"#fde0ef\"],[0.5,\"#f7f7f7\"],[0.6,\"#e6f5d0\"],[0.7,\"#b8e186\"],[0.8,\"#7fbc41\"],[0.9,\"#4d9221\"],[1,\"#276419\"]]},\"xaxis\":{\"gridcolor\":\"white\",\"linecolor\":\"white\",\"ticks\":\"\",\"title\":{\"standoff\":15},\"zerolinecolor\":\"white\",\"automargin\":true,\"zerolinewidth\":2},\"yaxis\":{\"gridcolor\":\"white\",\"linecolor\":\"white\",\"ticks\":\"\",\"title\":{\"standoff\":15},\"zerolinecolor\":\"white\",\"automargin\":true,\"zerolinewidth\":2},\"scene\":{\"xaxis\":{\"backgroundcolor\":\"#E5ECF6\",\"gridcolor\":\"white\",\"linecolor\":\"white\",\"showbackground\":true,\"ticks\":\"\",\"zerolinecolor\":\"white\",\"gridwidth\":2},\"yaxis\":{\"backgroundcolor\":\"#E5ECF6\",\"gridcolor\":\"white\",\"linecolor\":\"white\",\"showbackground\":true,\"ticks\":\"\",\"zerolinecolor\":\"white\",\"gridwidth\":2},\"zaxis\":{\"backgroundcolor\":\"#E5ECF6\",\"gridcolor\":\"white\",\"linecolor\":\"white\",\"showbackground\":true,\"ticks\":\"\",\"zerolinecolor\":\"white\",\"gridwidth\":2}},\"shapedefaults\":{\"line\":{\"color\":\"#2a3f5f\"}},\"annotationdefaults\":{\"arrowcolor\":\"#2a3f5f\",\"arrowhead\":0,\"arrowwidth\":1},\"geo\":{\"bgcolor\":\"white\",\"landcolor\":\"#E5ECF6\",\"subunitcolor\":\"white\",\"showland\":true,\"showlakes\":true,\"lakecolor\":\"white\"},\"title\":{\"x\":0.05},\"mapbox\":{\"style\":\"light\"}}},\"xaxis\":{\"anchor\":\"y\",\"domain\":[0.0,1.0],\"title\":{\"text\":\"value\"}},\"yaxis\":{\"anchor\":\"x\",\"domain\":[0.0,1.0],\"title\":{\"text\":\"index\"}},\"legend\":{\"title\":{\"text\":\"variable\"},\"tracegroupgap\":0},\"title\":{\"text\":\"Top 10 vacinados por grupo\"},\"barmode\":\"relative\"},                        {\"responsive\": true}                    ).then(function(){\n",
       "                            \n",
       "var gd = document.getElementById('b88d2311-fb2f-4653-bcd7-ce0584f296b8');\n",
       "var x = new MutationObserver(function (mutations, observer) {{\n",
       "        var display = window.getComputedStyle(gd).display;\n",
       "        if (!display || display === 'none') {{\n",
       "            console.log([gd, 'removed!']);\n",
       "            Plotly.purge(gd);\n",
       "            observer.disconnect();\n",
       "        }}\n",
       "}});\n",
       "\n",
       "// Listen for the removal of the full notebook cells\n",
       "var notebookContainer = gd.closest('#notebook-container');\n",
       "if (notebookContainer) {{\n",
       "    x.observe(notebookContainer, {childList: true});\n",
       "}}\n",
       "\n",
       "// Listen for the clearing of the current output cell\n",
       "var outputEl = gd.closest('.output');\n",
       "if (outputEl) {{\n",
       "    x.observe(outputEl, {childList: true});\n",
       "}}\n",
       "\n",
       "                        })                };                            </script>        </div>\n",
       "</body>\n",
       "</html>"
      ]
     },
     "metadata": {},
     "output_type": "display_data"
    }
   ],
   "source": [
    "# Adicionando o Rótulo de dados\n",
    "fig = px.bar(top_10, orientation='h', title=\"Top 10 vacinados por grupo\", text=top_10.values)\n",
    "fig.show()"
   ]
  },
  {
   "cell_type": "code",
   "execution_count": null,
   "metadata": {
    "colab": {
     "base_uri": "https://localhost:8080/"
    },
    "id": "1RPCQaL2fkjG",
    "outputId": "ee7ed253-04ab-4cda-a031-bd0147d92f10"
   },
   "outputs": [
    {
     "data": {
      "text/plain": [
       "1.0      84442\n",
       "2.0      69908\n",
       "3.0     104249\n",
       "4.0     119066\n",
       "5.0      50272\n",
       "6.0      60230\n",
       "7.0      62119\n",
       "8.0      32715\n",
       "9.0      18036\n",
       "10.0     10883\n",
       "11.0     24268\n",
       "12.0     15318\n",
       "Name: data_vacinacao, dtype: int64"
      ]
     },
     "execution_count": 73,
     "metadata": {},
     "output_type": "execute_result"
    }
   ],
   "source": [
    "# Total de vacinados por mês\n",
    "df[\"data_vacinacao\"].dt.month.value_counts().sort_index()"
   ]
  },
  {
   "cell_type": "code",
   "execution_count": null,
   "metadata": {
    "colab": {
     "base_uri": "https://localhost:8080/"
    },
    "id": "mj1AX2Kfg4SC",
    "outputId": "ab83e426-48ad-4814-b944-2743dbb87b55"
   },
   "outputs": [
    {
     "data": {
      "text/plain": [
       "1.0      84442\n",
       "2.0      69908\n",
       "3.0     104249\n",
       "4.0     119066\n",
       "5.0      50272\n",
       "6.0      60230\n",
       "7.0      62119\n",
       "8.0      32715\n",
       "9.0      18036\n",
       "10.0     10883\n",
       "11.0     24268\n",
       "12.0     15318\n",
       "Name: data_vacinacao, dtype: int64"
      ]
     },
     "execution_count": 79,
     "metadata": {},
     "output_type": "execute_result"
    }
   ],
   "source": [
    "total_mes = df[\"data_vacinacao\"].dt.month.value_counts().sort_index()\n",
    "\n",
    "total_mes"
   ]
  },
  {
   "cell_type": "code",
   "execution_count": null,
   "metadata": {
    "colab": {
     "base_uri": "https://localhost:8080/",
     "height": 542
    },
    "id": "_-Gz-bigh6_i",
    "outputId": "bf59b959-2d39-4106-b9ff-32557671ac40"
   },
   "outputs": [
    {
     "data": {
      "text/html": [
       "<html>\n",
       "<head><meta charset=\"utf-8\" /></head>\n",
       "<body>\n",
       "    <div>            <script src=\"https://cdnjs.cloudflare.com/ajax/libs/mathjax/2.7.5/MathJax.js?config=TeX-AMS-MML_SVG\"></script><script type=\"text/javascript\">if (window.MathJax && window.MathJax.Hub && window.MathJax.Hub.Config) {window.MathJax.Hub.Config({SVG: {font: \"STIX-Web\"}});}</script>                <script type=\"text/javascript\">window.PlotlyConfig = {MathJaxConfig: 'local'};</script>\n",
       "        <script src=\"https://cdn.plot.ly/plotly-2.18.2.min.js\"></script>                <div id=\"fcf116ee-0e79-48a7-a7be-d723736eafda\" class=\"plotly-graph-div\" style=\"height:525px; width:100%;\"></div>            <script type=\"text/javascript\">                                    window.PLOTLYENV=window.PLOTLYENV || {};                                    if (document.getElementById(\"fcf116ee-0e79-48a7-a7be-d723736eafda\")) {                    Plotly.newPlot(                        \"fcf116ee-0e79-48a7-a7be-d723736eafda\",                        [{\"hovertemplate\":\"x=%{x}<br>y=%{y}<extra></extra>\",\"legendgroup\":\"\",\"line\":{\"color\":\"#636efa\",\"dash\":\"solid\"},\"marker\":{\"symbol\":\"circle\"},\"mode\":\"lines\",\"name\":\"\",\"orientation\":\"v\",\"showlegend\":false,\"x\":[1.0,2.0,3.0,4.0,5.0,6.0,7.0,8.0,9.0,10.0,11.0,12.0],\"xaxis\":\"x\",\"y\":[84442,69908,104249,119066,50272,60230,62119,32715,18036,10883,24268,15318],\"yaxis\":\"y\",\"type\":\"scatter\"}],                        {\"template\":{\"data\":{\"histogram2dcontour\":[{\"type\":\"histogram2dcontour\",\"colorbar\":{\"outlinewidth\":0,\"ticks\":\"\"},\"colorscale\":[[0.0,\"#0d0887\"],[0.1111111111111111,\"#46039f\"],[0.2222222222222222,\"#7201a8\"],[0.3333333333333333,\"#9c179e\"],[0.4444444444444444,\"#bd3786\"],[0.5555555555555556,\"#d8576b\"],[0.6666666666666666,\"#ed7953\"],[0.7777777777777778,\"#fb9f3a\"],[0.8888888888888888,\"#fdca26\"],[1.0,\"#f0f921\"]]}],\"choropleth\":[{\"type\":\"choropleth\",\"colorbar\":{\"outlinewidth\":0,\"ticks\":\"\"}}],\"histogram2d\":[{\"type\":\"histogram2d\",\"colorbar\":{\"outlinewidth\":0,\"ticks\":\"\"},\"colorscale\":[[0.0,\"#0d0887\"],[0.1111111111111111,\"#46039f\"],[0.2222222222222222,\"#7201a8\"],[0.3333333333333333,\"#9c179e\"],[0.4444444444444444,\"#bd3786\"],[0.5555555555555556,\"#d8576b\"],[0.6666666666666666,\"#ed7953\"],[0.7777777777777778,\"#fb9f3a\"],[0.8888888888888888,\"#fdca26\"],[1.0,\"#f0f921\"]]}],\"heatmap\":[{\"type\":\"heatmap\",\"colorbar\":{\"outlinewidth\":0,\"ticks\":\"\"},\"colorscale\":[[0.0,\"#0d0887\"],[0.1111111111111111,\"#46039f\"],[0.2222222222222222,\"#7201a8\"],[0.3333333333333333,\"#9c179e\"],[0.4444444444444444,\"#bd3786\"],[0.5555555555555556,\"#d8576b\"],[0.6666666666666666,\"#ed7953\"],[0.7777777777777778,\"#fb9f3a\"],[0.8888888888888888,\"#fdca26\"],[1.0,\"#f0f921\"]]}],\"heatmapgl\":[{\"type\":\"heatmapgl\",\"colorbar\":{\"outlinewidth\":0,\"ticks\":\"\"},\"colorscale\":[[0.0,\"#0d0887\"],[0.1111111111111111,\"#46039f\"],[0.2222222222222222,\"#7201a8\"],[0.3333333333333333,\"#9c179e\"],[0.4444444444444444,\"#bd3786\"],[0.5555555555555556,\"#d8576b\"],[0.6666666666666666,\"#ed7953\"],[0.7777777777777778,\"#fb9f3a\"],[0.8888888888888888,\"#fdca26\"],[1.0,\"#f0f921\"]]}],\"contourcarpet\":[{\"type\":\"contourcarpet\",\"colorbar\":{\"outlinewidth\":0,\"ticks\":\"\"}}],\"contour\":[{\"type\":\"contour\",\"colorbar\":{\"outlinewidth\":0,\"ticks\":\"\"},\"colorscale\":[[0.0,\"#0d0887\"],[0.1111111111111111,\"#46039f\"],[0.2222222222222222,\"#7201a8\"],[0.3333333333333333,\"#9c179e\"],[0.4444444444444444,\"#bd3786\"],[0.5555555555555556,\"#d8576b\"],[0.6666666666666666,\"#ed7953\"],[0.7777777777777778,\"#fb9f3a\"],[0.8888888888888888,\"#fdca26\"],[1.0,\"#f0f921\"]]}],\"surface\":[{\"type\":\"surface\",\"colorbar\":{\"outlinewidth\":0,\"ticks\":\"\"},\"colorscale\":[[0.0,\"#0d0887\"],[0.1111111111111111,\"#46039f\"],[0.2222222222222222,\"#7201a8\"],[0.3333333333333333,\"#9c179e\"],[0.4444444444444444,\"#bd3786\"],[0.5555555555555556,\"#d8576b\"],[0.6666666666666666,\"#ed7953\"],[0.7777777777777778,\"#fb9f3a\"],[0.8888888888888888,\"#fdca26\"],[1.0,\"#f0f921\"]]}],\"mesh3d\":[{\"type\":\"mesh3d\",\"colorbar\":{\"outlinewidth\":0,\"ticks\":\"\"}}],\"scatter\":[{\"fillpattern\":{\"fillmode\":\"overlay\",\"size\":10,\"solidity\":0.2},\"type\":\"scatter\"}],\"parcoords\":[{\"type\":\"parcoords\",\"line\":{\"colorbar\":{\"outlinewidth\":0,\"ticks\":\"\"}}}],\"scatterpolargl\":[{\"type\":\"scatterpolargl\",\"marker\":{\"colorbar\":{\"outlinewidth\":0,\"ticks\":\"\"}}}],\"bar\":[{\"error_x\":{\"color\":\"#2a3f5f\"},\"error_y\":{\"color\":\"#2a3f5f\"},\"marker\":{\"line\":{\"color\":\"#E5ECF6\",\"width\":0.5},\"pattern\":{\"fillmode\":\"overlay\",\"size\":10,\"solidity\":0.2}},\"type\":\"bar\"}],\"scattergeo\":[{\"type\":\"scattergeo\",\"marker\":{\"colorbar\":{\"outlinewidth\":0,\"ticks\":\"\"}}}],\"scatterpolar\":[{\"type\":\"scatterpolar\",\"marker\":{\"colorbar\":{\"outlinewidth\":0,\"ticks\":\"\"}}}],\"histogram\":[{\"marker\":{\"pattern\":{\"fillmode\":\"overlay\",\"size\":10,\"solidity\":0.2}},\"type\":\"histogram\"}],\"scattergl\":[{\"type\":\"scattergl\",\"marker\":{\"colorbar\":{\"outlinewidth\":0,\"ticks\":\"\"}}}],\"scatter3d\":[{\"type\":\"scatter3d\",\"line\":{\"colorbar\":{\"outlinewidth\":0,\"ticks\":\"\"}},\"marker\":{\"colorbar\":{\"outlinewidth\":0,\"ticks\":\"\"}}}],\"scattermapbox\":[{\"type\":\"scattermapbox\",\"marker\":{\"colorbar\":{\"outlinewidth\":0,\"ticks\":\"\"}}}],\"scatterternary\":[{\"type\":\"scatterternary\",\"marker\":{\"colorbar\":{\"outlinewidth\":0,\"ticks\":\"\"}}}],\"scattercarpet\":[{\"type\":\"scattercarpet\",\"marker\":{\"colorbar\":{\"outlinewidth\":0,\"ticks\":\"\"}}}],\"carpet\":[{\"aaxis\":{\"endlinecolor\":\"#2a3f5f\",\"gridcolor\":\"white\",\"linecolor\":\"white\",\"minorgridcolor\":\"white\",\"startlinecolor\":\"#2a3f5f\"},\"baxis\":{\"endlinecolor\":\"#2a3f5f\",\"gridcolor\":\"white\",\"linecolor\":\"white\",\"minorgridcolor\":\"white\",\"startlinecolor\":\"#2a3f5f\"},\"type\":\"carpet\"}],\"table\":[{\"cells\":{\"fill\":{\"color\":\"#EBF0F8\"},\"line\":{\"color\":\"white\"}},\"header\":{\"fill\":{\"color\":\"#C8D4E3\"},\"line\":{\"color\":\"white\"}},\"type\":\"table\"}],\"barpolar\":[{\"marker\":{\"line\":{\"color\":\"#E5ECF6\",\"width\":0.5},\"pattern\":{\"fillmode\":\"overlay\",\"size\":10,\"solidity\":0.2}},\"type\":\"barpolar\"}],\"pie\":[{\"automargin\":true,\"type\":\"pie\"}]},\"layout\":{\"autotypenumbers\":\"strict\",\"colorway\":[\"#636efa\",\"#EF553B\",\"#00cc96\",\"#ab63fa\",\"#FFA15A\",\"#19d3f3\",\"#FF6692\",\"#B6E880\",\"#FF97FF\",\"#FECB52\"],\"font\":{\"color\":\"#2a3f5f\"},\"hovermode\":\"closest\",\"hoverlabel\":{\"align\":\"left\"},\"paper_bgcolor\":\"white\",\"plot_bgcolor\":\"#E5ECF6\",\"polar\":{\"bgcolor\":\"#E5ECF6\",\"angularaxis\":{\"gridcolor\":\"white\",\"linecolor\":\"white\",\"ticks\":\"\"},\"radialaxis\":{\"gridcolor\":\"white\",\"linecolor\":\"white\",\"ticks\":\"\"}},\"ternary\":{\"bgcolor\":\"#E5ECF6\",\"aaxis\":{\"gridcolor\":\"white\",\"linecolor\":\"white\",\"ticks\":\"\"},\"baxis\":{\"gridcolor\":\"white\",\"linecolor\":\"white\",\"ticks\":\"\"},\"caxis\":{\"gridcolor\":\"white\",\"linecolor\":\"white\",\"ticks\":\"\"}},\"coloraxis\":{\"colorbar\":{\"outlinewidth\":0,\"ticks\":\"\"}},\"colorscale\":{\"sequential\":[[0.0,\"#0d0887\"],[0.1111111111111111,\"#46039f\"],[0.2222222222222222,\"#7201a8\"],[0.3333333333333333,\"#9c179e\"],[0.4444444444444444,\"#bd3786\"],[0.5555555555555556,\"#d8576b\"],[0.6666666666666666,\"#ed7953\"],[0.7777777777777778,\"#fb9f3a\"],[0.8888888888888888,\"#fdca26\"],[1.0,\"#f0f921\"]],\"sequentialminus\":[[0.0,\"#0d0887\"],[0.1111111111111111,\"#46039f\"],[0.2222222222222222,\"#7201a8\"],[0.3333333333333333,\"#9c179e\"],[0.4444444444444444,\"#bd3786\"],[0.5555555555555556,\"#d8576b\"],[0.6666666666666666,\"#ed7953\"],[0.7777777777777778,\"#fb9f3a\"],[0.8888888888888888,\"#fdca26\"],[1.0,\"#f0f921\"]],\"diverging\":[[0,\"#8e0152\"],[0.1,\"#c51b7d\"],[0.2,\"#de77ae\"],[0.3,\"#f1b6da\"],[0.4,\"#fde0ef\"],[0.5,\"#f7f7f7\"],[0.6,\"#e6f5d0\"],[0.7,\"#b8e186\"],[0.8,\"#7fbc41\"],[0.9,\"#4d9221\"],[1,\"#276419\"]]},\"xaxis\":{\"gridcolor\":\"white\",\"linecolor\":\"white\",\"ticks\":\"\",\"title\":{\"standoff\":15},\"zerolinecolor\":\"white\",\"automargin\":true,\"zerolinewidth\":2},\"yaxis\":{\"gridcolor\":\"white\",\"linecolor\":\"white\",\"ticks\":\"\",\"title\":{\"standoff\":15},\"zerolinecolor\":\"white\",\"automargin\":true,\"zerolinewidth\":2},\"scene\":{\"xaxis\":{\"backgroundcolor\":\"#E5ECF6\",\"gridcolor\":\"white\",\"linecolor\":\"white\",\"showbackground\":true,\"ticks\":\"\",\"zerolinecolor\":\"white\",\"gridwidth\":2},\"yaxis\":{\"backgroundcolor\":\"#E5ECF6\",\"gridcolor\":\"white\",\"linecolor\":\"white\",\"showbackground\":true,\"ticks\":\"\",\"zerolinecolor\":\"white\",\"gridwidth\":2},\"zaxis\":{\"backgroundcolor\":\"#E5ECF6\",\"gridcolor\":\"white\",\"linecolor\":\"white\",\"showbackground\":true,\"ticks\":\"\",\"zerolinecolor\":\"white\",\"gridwidth\":2}},\"shapedefaults\":{\"line\":{\"color\":\"#2a3f5f\"}},\"annotationdefaults\":{\"arrowcolor\":\"#2a3f5f\",\"arrowhead\":0,\"arrowwidth\":1},\"geo\":{\"bgcolor\":\"white\",\"landcolor\":\"#E5ECF6\",\"subunitcolor\":\"white\",\"showland\":true,\"showlakes\":true,\"lakecolor\":\"white\"},\"title\":{\"x\":0.05},\"mapbox\":{\"style\":\"light\"}}},\"xaxis\":{\"anchor\":\"y\",\"domain\":[0.0,1.0],\"title\":{\"text\":\"x\"}},\"yaxis\":{\"anchor\":\"x\",\"domain\":[0.0,1.0],\"title\":{\"text\":\"y\"}},\"legend\":{\"tracegroupgap\":0},\"title\":{\"text\":\"Total Vacinados por m\\u00eas\"}},                        {\"responsive\": true}                    ).then(function(){\n",
       "                            \n",
       "var gd = document.getElementById('fcf116ee-0e79-48a7-a7be-d723736eafda');\n",
       "var x = new MutationObserver(function (mutations, observer) {{\n",
       "        var display = window.getComputedStyle(gd).display;\n",
       "        if (!display || display === 'none') {{\n",
       "            console.log([gd, 'removed!']);\n",
       "            Plotly.purge(gd);\n",
       "            observer.disconnect();\n",
       "        }}\n",
       "}});\n",
       "\n",
       "// Listen for the removal of the full notebook cells\n",
       "var notebookContainer = gd.closest('#notebook-container');\n",
       "if (notebookContainer) {{\n",
       "    x.observe(notebookContainer, {childList: true});\n",
       "}}\n",
       "\n",
       "// Listen for the clearing of the current output cell\n",
       "var outputEl = gd.closest('.output');\n",
       "if (outputEl) {{\n",
       "    x.observe(outputEl, {childList: true});\n",
       "}}\n",
       "\n",
       "                        })                };                            </script>        </div>\n",
       "</body>\n",
       "</html>"
      ]
     },
     "metadata": {},
     "output_type": "display_data"
    }
   ],
   "source": [
    "fig = px.line(x=total_mes.index, y=total_mes.values, title=\"Total Vacinados por mês\")\n",
    "fig.show()"
   ]
  },
  {
   "cell_type": "code",
   "execution_count": null,
   "metadata": {
    "colab": {
     "base_uri": "https://localhost:8080/",
     "height": 542
    },
    "id": "zAjJD56HiJXC",
    "outputId": "8872ffe1-3bc0-4ac4-8170-5d799aaf8998"
   },
   "outputs": [
    {
     "data": {
      "text/html": [
       "<html>\n",
       "<head><meta charset=\"utf-8\" /></head>\n",
       "<body>\n",
       "    <div>            <script src=\"https://cdnjs.cloudflare.com/ajax/libs/mathjax/2.7.5/MathJax.js?config=TeX-AMS-MML_SVG\"></script><script type=\"text/javascript\">if (window.MathJax && window.MathJax.Hub && window.MathJax.Hub.Config) {window.MathJax.Hub.Config({SVG: {font: \"STIX-Web\"}});}</script>                <script type=\"text/javascript\">window.PlotlyConfig = {MathJaxConfig: 'local'};</script>\n",
       "        <script src=\"https://cdn.plot.ly/plotly-2.18.2.min.js\"></script>                <div id=\"ef10a434-2058-4f6d-9f6d-880107da1414\" class=\"plotly-graph-div\" style=\"height:525px; width:100%;\"></div>            <script type=\"text/javascript\">                                    window.PLOTLYENV=window.PLOTLYENV || {};                                    if (document.getElementById(\"ef10a434-2058-4f6d-9f6d-880107da1414\")) {                    Plotly.newPlot(                        \"ef10a434-2058-4f6d-9f6d-880107da1414\",                        [{\"hovertemplate\":\"M\\u00eas=%{x}<br>Total Vacinados=%{y}<extra></extra>\",\"legendgroup\":\"\",\"line\":{\"color\":\"#636efa\",\"dash\":\"solid\"},\"marker\":{\"symbol\":\"circle\"},\"mode\":\"markers+lines\",\"name\":\"\",\"orientation\":\"v\",\"showlegend\":false,\"x\":[1.0,2.0,3.0,4.0,5.0,6.0,7.0,8.0,9.0,10.0,11.0,12.0],\"xaxis\":\"x\",\"y\":[84442,69908,104249,119066,50272,60230,62119,32715,18036,10883,24268,15318],\"yaxis\":\"y\",\"type\":\"scatter\"}],                        {\"template\":{\"data\":{\"histogram2dcontour\":[{\"type\":\"histogram2dcontour\",\"colorbar\":{\"outlinewidth\":0,\"ticks\":\"\"},\"colorscale\":[[0.0,\"#0d0887\"],[0.1111111111111111,\"#46039f\"],[0.2222222222222222,\"#7201a8\"],[0.3333333333333333,\"#9c179e\"],[0.4444444444444444,\"#bd3786\"],[0.5555555555555556,\"#d8576b\"],[0.6666666666666666,\"#ed7953\"],[0.7777777777777778,\"#fb9f3a\"],[0.8888888888888888,\"#fdca26\"],[1.0,\"#f0f921\"]]}],\"choropleth\":[{\"type\":\"choropleth\",\"colorbar\":{\"outlinewidth\":0,\"ticks\":\"\"}}],\"histogram2d\":[{\"type\":\"histogram2d\",\"colorbar\":{\"outlinewidth\":0,\"ticks\":\"\"},\"colorscale\":[[0.0,\"#0d0887\"],[0.1111111111111111,\"#46039f\"],[0.2222222222222222,\"#7201a8\"],[0.3333333333333333,\"#9c179e\"],[0.4444444444444444,\"#bd3786\"],[0.5555555555555556,\"#d8576b\"],[0.6666666666666666,\"#ed7953\"],[0.7777777777777778,\"#fb9f3a\"],[0.8888888888888888,\"#fdca26\"],[1.0,\"#f0f921\"]]}],\"heatmap\":[{\"type\":\"heatmap\",\"colorbar\":{\"outlinewidth\":0,\"ticks\":\"\"},\"colorscale\":[[0.0,\"#0d0887\"],[0.1111111111111111,\"#46039f\"],[0.2222222222222222,\"#7201a8\"],[0.3333333333333333,\"#9c179e\"],[0.4444444444444444,\"#bd3786\"],[0.5555555555555556,\"#d8576b\"],[0.6666666666666666,\"#ed7953\"],[0.7777777777777778,\"#fb9f3a\"],[0.8888888888888888,\"#fdca26\"],[1.0,\"#f0f921\"]]}],\"heatmapgl\":[{\"type\":\"heatmapgl\",\"colorbar\":{\"outlinewidth\":0,\"ticks\":\"\"},\"colorscale\":[[0.0,\"#0d0887\"],[0.1111111111111111,\"#46039f\"],[0.2222222222222222,\"#7201a8\"],[0.3333333333333333,\"#9c179e\"],[0.4444444444444444,\"#bd3786\"],[0.5555555555555556,\"#d8576b\"],[0.6666666666666666,\"#ed7953\"],[0.7777777777777778,\"#fb9f3a\"],[0.8888888888888888,\"#fdca26\"],[1.0,\"#f0f921\"]]}],\"contourcarpet\":[{\"type\":\"contourcarpet\",\"colorbar\":{\"outlinewidth\":0,\"ticks\":\"\"}}],\"contour\":[{\"type\":\"contour\",\"colorbar\":{\"outlinewidth\":0,\"ticks\":\"\"},\"colorscale\":[[0.0,\"#0d0887\"],[0.1111111111111111,\"#46039f\"],[0.2222222222222222,\"#7201a8\"],[0.3333333333333333,\"#9c179e\"],[0.4444444444444444,\"#bd3786\"],[0.5555555555555556,\"#d8576b\"],[0.6666666666666666,\"#ed7953\"],[0.7777777777777778,\"#fb9f3a\"],[0.8888888888888888,\"#fdca26\"],[1.0,\"#f0f921\"]]}],\"surface\":[{\"type\":\"surface\",\"colorbar\":{\"outlinewidth\":0,\"ticks\":\"\"},\"colorscale\":[[0.0,\"#0d0887\"],[0.1111111111111111,\"#46039f\"],[0.2222222222222222,\"#7201a8\"],[0.3333333333333333,\"#9c179e\"],[0.4444444444444444,\"#bd3786\"],[0.5555555555555556,\"#d8576b\"],[0.6666666666666666,\"#ed7953\"],[0.7777777777777778,\"#fb9f3a\"],[0.8888888888888888,\"#fdca26\"],[1.0,\"#f0f921\"]]}],\"mesh3d\":[{\"type\":\"mesh3d\",\"colorbar\":{\"outlinewidth\":0,\"ticks\":\"\"}}],\"scatter\":[{\"fillpattern\":{\"fillmode\":\"overlay\",\"size\":10,\"solidity\":0.2},\"type\":\"scatter\"}],\"parcoords\":[{\"type\":\"parcoords\",\"line\":{\"colorbar\":{\"outlinewidth\":0,\"ticks\":\"\"}}}],\"scatterpolargl\":[{\"type\":\"scatterpolargl\",\"marker\":{\"colorbar\":{\"outlinewidth\":0,\"ticks\":\"\"}}}],\"bar\":[{\"error_x\":{\"color\":\"#2a3f5f\"},\"error_y\":{\"color\":\"#2a3f5f\"},\"marker\":{\"line\":{\"color\":\"#E5ECF6\",\"width\":0.5},\"pattern\":{\"fillmode\":\"overlay\",\"size\":10,\"solidity\":0.2}},\"type\":\"bar\"}],\"scattergeo\":[{\"type\":\"scattergeo\",\"marker\":{\"colorbar\":{\"outlinewidth\":0,\"ticks\":\"\"}}}],\"scatterpolar\":[{\"type\":\"scatterpolar\",\"marker\":{\"colorbar\":{\"outlinewidth\":0,\"ticks\":\"\"}}}],\"histogram\":[{\"marker\":{\"pattern\":{\"fillmode\":\"overlay\",\"size\":10,\"solidity\":0.2}},\"type\":\"histogram\"}],\"scattergl\":[{\"type\":\"scattergl\",\"marker\":{\"colorbar\":{\"outlinewidth\":0,\"ticks\":\"\"}}}],\"scatter3d\":[{\"type\":\"scatter3d\",\"line\":{\"colorbar\":{\"outlinewidth\":0,\"ticks\":\"\"}},\"marker\":{\"colorbar\":{\"outlinewidth\":0,\"ticks\":\"\"}}}],\"scattermapbox\":[{\"type\":\"scattermapbox\",\"marker\":{\"colorbar\":{\"outlinewidth\":0,\"ticks\":\"\"}}}],\"scatterternary\":[{\"type\":\"scatterternary\",\"marker\":{\"colorbar\":{\"outlinewidth\":0,\"ticks\":\"\"}}}],\"scattercarpet\":[{\"type\":\"scattercarpet\",\"marker\":{\"colorbar\":{\"outlinewidth\":0,\"ticks\":\"\"}}}],\"carpet\":[{\"aaxis\":{\"endlinecolor\":\"#2a3f5f\",\"gridcolor\":\"white\",\"linecolor\":\"white\",\"minorgridcolor\":\"white\",\"startlinecolor\":\"#2a3f5f\"},\"baxis\":{\"endlinecolor\":\"#2a3f5f\",\"gridcolor\":\"white\",\"linecolor\":\"white\",\"minorgridcolor\":\"white\",\"startlinecolor\":\"#2a3f5f\"},\"type\":\"carpet\"}],\"table\":[{\"cells\":{\"fill\":{\"color\":\"#EBF0F8\"},\"line\":{\"color\":\"white\"}},\"header\":{\"fill\":{\"color\":\"#C8D4E3\"},\"line\":{\"color\":\"white\"}},\"type\":\"table\"}],\"barpolar\":[{\"marker\":{\"line\":{\"color\":\"#E5ECF6\",\"width\":0.5},\"pattern\":{\"fillmode\":\"overlay\",\"size\":10,\"solidity\":0.2}},\"type\":\"barpolar\"}],\"pie\":[{\"automargin\":true,\"type\":\"pie\"}]},\"layout\":{\"autotypenumbers\":\"strict\",\"colorway\":[\"#636efa\",\"#EF553B\",\"#00cc96\",\"#ab63fa\",\"#FFA15A\",\"#19d3f3\",\"#FF6692\",\"#B6E880\",\"#FF97FF\",\"#FECB52\"],\"font\":{\"color\":\"#2a3f5f\"},\"hovermode\":\"closest\",\"hoverlabel\":{\"align\":\"left\"},\"paper_bgcolor\":\"white\",\"plot_bgcolor\":\"#E5ECF6\",\"polar\":{\"bgcolor\":\"#E5ECF6\",\"angularaxis\":{\"gridcolor\":\"white\",\"linecolor\":\"white\",\"ticks\":\"\"},\"radialaxis\":{\"gridcolor\":\"white\",\"linecolor\":\"white\",\"ticks\":\"\"}},\"ternary\":{\"bgcolor\":\"#E5ECF6\",\"aaxis\":{\"gridcolor\":\"white\",\"linecolor\":\"white\",\"ticks\":\"\"},\"baxis\":{\"gridcolor\":\"white\",\"linecolor\":\"white\",\"ticks\":\"\"},\"caxis\":{\"gridcolor\":\"white\",\"linecolor\":\"white\",\"ticks\":\"\"}},\"coloraxis\":{\"colorbar\":{\"outlinewidth\":0,\"ticks\":\"\"}},\"colorscale\":{\"sequential\":[[0.0,\"#0d0887\"],[0.1111111111111111,\"#46039f\"],[0.2222222222222222,\"#7201a8\"],[0.3333333333333333,\"#9c179e\"],[0.4444444444444444,\"#bd3786\"],[0.5555555555555556,\"#d8576b\"],[0.6666666666666666,\"#ed7953\"],[0.7777777777777778,\"#fb9f3a\"],[0.8888888888888888,\"#fdca26\"],[1.0,\"#f0f921\"]],\"sequentialminus\":[[0.0,\"#0d0887\"],[0.1111111111111111,\"#46039f\"],[0.2222222222222222,\"#7201a8\"],[0.3333333333333333,\"#9c179e\"],[0.4444444444444444,\"#bd3786\"],[0.5555555555555556,\"#d8576b\"],[0.6666666666666666,\"#ed7953\"],[0.7777777777777778,\"#fb9f3a\"],[0.8888888888888888,\"#fdca26\"],[1.0,\"#f0f921\"]],\"diverging\":[[0,\"#8e0152\"],[0.1,\"#c51b7d\"],[0.2,\"#de77ae\"],[0.3,\"#f1b6da\"],[0.4,\"#fde0ef\"],[0.5,\"#f7f7f7\"],[0.6,\"#e6f5d0\"],[0.7,\"#b8e186\"],[0.8,\"#7fbc41\"],[0.9,\"#4d9221\"],[1,\"#276419\"]]},\"xaxis\":{\"gridcolor\":\"white\",\"linecolor\":\"white\",\"ticks\":\"\",\"title\":{\"standoff\":15},\"zerolinecolor\":\"white\",\"automargin\":true,\"zerolinewidth\":2},\"yaxis\":{\"gridcolor\":\"white\",\"linecolor\":\"white\",\"ticks\":\"\",\"title\":{\"standoff\":15},\"zerolinecolor\":\"white\",\"automargin\":true,\"zerolinewidth\":2},\"scene\":{\"xaxis\":{\"backgroundcolor\":\"#E5ECF6\",\"gridcolor\":\"white\",\"linecolor\":\"white\",\"showbackground\":true,\"ticks\":\"\",\"zerolinecolor\":\"white\",\"gridwidth\":2},\"yaxis\":{\"backgroundcolor\":\"#E5ECF6\",\"gridcolor\":\"white\",\"linecolor\":\"white\",\"showbackground\":true,\"ticks\":\"\",\"zerolinecolor\":\"white\",\"gridwidth\":2},\"zaxis\":{\"backgroundcolor\":\"#E5ECF6\",\"gridcolor\":\"white\",\"linecolor\":\"white\",\"showbackground\":true,\"ticks\":\"\",\"zerolinecolor\":\"white\",\"gridwidth\":2}},\"shapedefaults\":{\"line\":{\"color\":\"#2a3f5f\"}},\"annotationdefaults\":{\"arrowcolor\":\"#2a3f5f\",\"arrowhead\":0,\"arrowwidth\":1},\"geo\":{\"bgcolor\":\"white\",\"landcolor\":\"#E5ECF6\",\"subunitcolor\":\"white\",\"showland\":true,\"showlakes\":true,\"lakecolor\":\"white\"},\"title\":{\"x\":0.05},\"mapbox\":{\"style\":\"light\"}}},\"xaxis\":{\"anchor\":\"y\",\"domain\":[0.0,1.0],\"title\":{\"text\":\"M\\u00eas\"}},\"yaxis\":{\"anchor\":\"x\",\"domain\":[0.0,1.0],\"title\":{\"text\":\"Total Vacinados\"}},\"legend\":{\"tracegroupgap\":0},\"title\":{\"text\":\"Total Vacinados por m\\u00eas\"}},                        {\"responsive\": true}                    ).then(function(){\n",
       "                            \n",
       "var gd = document.getElementById('ef10a434-2058-4f6d-9f6d-880107da1414');\n",
       "var x = new MutationObserver(function (mutations, observer) {{\n",
       "        var display = window.getComputedStyle(gd).display;\n",
       "        if (!display || display === 'none') {{\n",
       "            console.log([gd, 'removed!']);\n",
       "            Plotly.purge(gd);\n",
       "            observer.disconnect();\n",
       "        }}\n",
       "}});\n",
       "\n",
       "// Listen for the removal of the full notebook cells\n",
       "var notebookContainer = gd.closest('#notebook-container');\n",
       "if (notebookContainer) {{\n",
       "    x.observe(notebookContainer, {childList: true});\n",
       "}}\n",
       "\n",
       "// Listen for the clearing of the current output cell\n",
       "var outputEl = gd.closest('.output');\n",
       "if (outputEl) {{\n",
       "    x.observe(outputEl, {childList: true});\n",
       "}}\n",
       "\n",
       "                        })                };                            </script>        </div>\n",
       "</body>\n",
       "</html>"
      ]
     },
     "metadata": {},
     "output_type": "display_data"
    }
   ],
   "source": [
    "fig = px.line(x=total_mes.index, y=total_mes.values, title=\"Total Vacinados por mês\", markers=True,\n",
    "              labels={'x':\"Mês\", 'y':\"Total Vacinados\"})\n",
    "fig.show()"
   ]
  },
  {
   "cell_type": "code",
   "execution_count": null,
   "metadata": {
    "colab": {
     "base_uri": "https://localhost:8080/",
     "height": 349
    },
    "id": "txQSsh1IiX9G",
    "outputId": "e113b8da-f12a-44db-8b4c-cd90398553c0"
   },
   "outputs": [
    {
     "data": {
      "text/html": [
       "\n",
       "  <div id=\"df-0424e327-7a96-401c-a69f-feba2d94da4b\">\n",
       "    <div class=\"colab-df-container\">\n",
       "      <div>\n",
       "<style scoped>\n",
       "    .dataframe tbody tr th:only-of-type {\n",
       "        vertical-align: middle;\n",
       "    }\n",
       "\n",
       "    .dataframe tbody tr th {\n",
       "        vertical-align: top;\n",
       "    }\n",
       "\n",
       "    .dataframe thead th {\n",
       "        text-align: right;\n",
       "    }\n",
       "</style>\n",
       "<table border=\"1\" class=\"dataframe\">\n",
       "  <thead>\n",
       "    <tr style=\"text-align: right;\">\n",
       "      <th></th>\n",
       "      <th>faixa_etaria</th>\n",
       "      <th>idade</th>\n",
       "      <th>sexo</th>\n",
       "      <th>raca_cor</th>\n",
       "      <th>municipio</th>\n",
       "      <th>grupo</th>\n",
       "      <th>categoria</th>\n",
       "      <th>lote</th>\n",
       "      <th>vacina_fabricante</th>\n",
       "      <th>descricao_dose</th>\n",
       "      <th>cnes</th>\n",
       "      <th>sistema_origem</th>\n",
       "      <th>data_vacinacao</th>\n",
       "    </tr>\n",
       "  </thead>\n",
       "  <tbody>\n",
       "    <tr>\n",
       "      <th>0</th>\n",
       "      <td>40 a 44 anos</td>\n",
       "      <td>41</td>\n",
       "      <td>FEMININO</td>\n",
       "      <td>BRANCA</td>\n",
       "      <td>RECIFE</td>\n",
       "      <td>TRABALHADORES DA SAÚDE</td>\n",
       "      <td>NaN</td>\n",
       "      <td>222VCD045W</td>\n",
       "      <td>2 - CHADOX1NCOV-19 - OXFORD/ASTRAZENECA (FIOCRUZ)</td>\n",
       "      <td>4.0</td>\n",
       "      <td>DS 6: CNES: 0001392 - MIGUEL DE LIMA VALVERDE.</td>\n",
       "      <td>Conecta Recife</td>\n",
       "      <td>2022-10-29</td>\n",
       "    </tr>\n",
       "    <tr>\n",
       "      <th>1</th>\n",
       "      <td>40 a 44 anos</td>\n",
       "      <td>43</td>\n",
       "      <td>MASCULINO</td>\n",
       "      <td>BRANCA</td>\n",
       "      <td>RECIFE</td>\n",
       "      <td>PÚBLICO EM GERAL (18 a 59 anos)</td>\n",
       "      <td>NaN</td>\n",
       "      <td>223VCD072W</td>\n",
       "      <td>2 - CHADOX1NCOV-19 - OXFORD/ASTRAZENECA (FIOCRUZ)</td>\n",
       "      <td>3.0</td>\n",
       "      <td>DS 6: CNES: 0001392 - MIGUEL DE LIMA VALVERDE.</td>\n",
       "      <td>Conecta Recife</td>\n",
       "      <td>2022-08-03</td>\n",
       "    </tr>\n",
       "  </tbody>\n",
       "</table>\n",
       "</div>\n",
       "      <button class=\"colab-df-convert\" onclick=\"convertToInteractive('df-0424e327-7a96-401c-a69f-feba2d94da4b')\"\n",
       "              title=\"Convert this dataframe to an interactive table.\"\n",
       "              style=\"display:none;\">\n",
       "        \n",
       "  <svg xmlns=\"http://www.w3.org/2000/svg\" height=\"24px\"viewBox=\"0 0 24 24\"\n",
       "       width=\"24px\">\n",
       "    <path d=\"M0 0h24v24H0V0z\" fill=\"none\"/>\n",
       "    <path d=\"M18.56 5.44l.94 2.06.94-2.06 2.06-.94-2.06-.94-.94-2.06-.94 2.06-2.06.94zm-11 1L8.5 8.5l.94-2.06 2.06-.94-2.06-.94L8.5 2.5l-.94 2.06-2.06.94zm10 10l.94 2.06.94-2.06 2.06-.94-2.06-.94-.94-2.06-.94 2.06-2.06.94z\"/><path d=\"M17.41 7.96l-1.37-1.37c-.4-.4-.92-.59-1.43-.59-.52 0-1.04.2-1.43.59L10.3 9.45l-7.72 7.72c-.78.78-.78 2.05 0 2.83L4 21.41c.39.39.9.59 1.41.59.51 0 1.02-.2 1.41-.59l7.78-7.78 2.81-2.81c.8-.78.8-2.07 0-2.86zM5.41 20L4 18.59l7.72-7.72 1.47 1.35L5.41 20z\"/>\n",
       "  </svg>\n",
       "      </button>\n",
       "      \n",
       "  <style>\n",
       "    .colab-df-container {\n",
       "      display:flex;\n",
       "      flex-wrap:wrap;\n",
       "      gap: 12px;\n",
       "    }\n",
       "\n",
       "    .colab-df-convert {\n",
       "      background-color: #E8F0FE;\n",
       "      border: none;\n",
       "      border-radius: 50%;\n",
       "      cursor: pointer;\n",
       "      display: none;\n",
       "      fill: #1967D2;\n",
       "      height: 32px;\n",
       "      padding: 0 0 0 0;\n",
       "      width: 32px;\n",
       "    }\n",
       "\n",
       "    .colab-df-convert:hover {\n",
       "      background-color: #E2EBFA;\n",
       "      box-shadow: 0px 1px 2px rgba(60, 64, 67, 0.3), 0px 1px 3px 1px rgba(60, 64, 67, 0.15);\n",
       "      fill: #174EA6;\n",
       "    }\n",
       "\n",
       "    [theme=dark] .colab-df-convert {\n",
       "      background-color: #3B4455;\n",
       "      fill: #D2E3FC;\n",
       "    }\n",
       "\n",
       "    [theme=dark] .colab-df-convert:hover {\n",
       "      background-color: #434B5C;\n",
       "      box-shadow: 0px 1px 3px 1px rgba(0, 0, 0, 0.15);\n",
       "      filter: drop-shadow(0px 1px 2px rgba(0, 0, 0, 0.3));\n",
       "      fill: #FFFFFF;\n",
       "    }\n",
       "  </style>\n",
       "\n",
       "      <script>\n",
       "        const buttonEl =\n",
       "          document.querySelector('#df-0424e327-7a96-401c-a69f-feba2d94da4b button.colab-df-convert');\n",
       "        buttonEl.style.display =\n",
       "          google.colab.kernel.accessAllowed ? 'block' : 'none';\n",
       "\n",
       "        async function convertToInteractive(key) {\n",
       "          const element = document.querySelector('#df-0424e327-7a96-401c-a69f-feba2d94da4b');\n",
       "          const dataTable =\n",
       "            await google.colab.kernel.invokeFunction('convertToInteractive',\n",
       "                                                     [key], {});\n",
       "          if (!dataTable) return;\n",
       "\n",
       "          const docLinkHtml = 'Like what you see? Visit the ' +\n",
       "            '<a target=\"_blank\" href=https://colab.research.google.com/notebooks/data_table.ipynb>data table notebook</a>'\n",
       "            + ' to learn more about interactive tables.';\n",
       "          element.innerHTML = '';\n",
       "          dataTable['output_type'] = 'display_data';\n",
       "          await google.colab.output.renderOutput(dataTable, element);\n",
       "          const docLink = document.createElement('div');\n",
       "          docLink.innerHTML = docLinkHtml;\n",
       "          element.appendChild(docLink);\n",
       "        }\n",
       "      </script>\n",
       "    </div>\n",
       "  </div>\n",
       "  "
      ],
      "text/plain": [
       "   faixa_etaria idade       sexo raca_cor municipio  \\\n",
       "0  40 a 44 anos    41   FEMININO   BRANCA    RECIFE   \n",
       "1  40 a 44 anos    43  MASCULINO   BRANCA    RECIFE   \n",
       "\n",
       "                             grupo categoria        lote  \\\n",
       "0           TRABALHADORES DA SAÚDE       NaN  222VCD045W   \n",
       "1  PÚBLICO EM GERAL (18 a 59 anos)       NaN  223VCD072W   \n",
       "\n",
       "                                   vacina_fabricante descricao_dose  \\\n",
       "0  2 - CHADOX1NCOV-19 - OXFORD/ASTRAZENECA (FIOCRUZ)            4.0   \n",
       "1  2 - CHADOX1NCOV-19 - OXFORD/ASTRAZENECA (FIOCRUZ)            3.0   \n",
       "\n",
       "                                             cnes  sistema_origem  \\\n",
       "0  DS 6: CNES: 0001392 - MIGUEL DE LIMA VALVERDE.  Conecta Recife   \n",
       "1  DS 6: CNES: 0001392 - MIGUEL DE LIMA VALVERDE.  Conecta Recife   \n",
       "\n",
       "  data_vacinacao  \n",
       "0     2022-10-29  \n",
       "1     2022-08-03  "
      ]
     },
     "execution_count": 85,
     "metadata": {},
     "output_type": "execute_result"
    }
   ],
   "source": [
    "df.head(2)"
   ]
  },
  {
   "cell_type": "code",
   "execution_count": null,
   "metadata": {
    "colab": {
     "base_uri": "https://localhost:8080/"
    },
    "id": "Y3DUhMKfi28O",
    "outputId": "ddc433bd-b594-48ca-baa3-eb2235356634"
   },
   "outputs": [
    {
     "data": {
      "text/plain": [
       "array(['40 a 44 anos', '80 a 84 anos', '55 a 59 anos', '45 a 49 anos',\n",
       "       '75 a 79 anos', '60 a 64 anos', '65 a 69 anos', '50 a 54 anos',\n",
       "       '35 a 39 anos', '70 a 74 anos', '90 a 94 anos', '85 a 89 anos',\n",
       "       '25 a 29 anos', '5 a 9 anos', '20 a 24 anos', '30 a 34 anos',\n",
       "       '95 a 99 anos', '15 a 19 anos', '100 anos +', '10 a 14 anos',\n",
       "       '0 a 4 anos', '40 a 44 anoConecta Recife', nan, '1RECIFE',\n",
       "       '70 a 74 Conecta Recife', '5 a 9 ano0 a 4 anos',\n",
       "       '6CRIANÇAS DE 05 A 11 ANOS'], dtype=object)"
      ]
     },
     "execution_count": 88,
     "metadata": {},
     "output_type": "execute_result"
    }
   ],
   "source": [
    "# Análise por Faixa Etária\n",
    "df[\"faixa_etaria\"].unique()"
   ]
  },
  {
   "cell_type": "code",
   "execution_count": null,
   "metadata": {
    "id": "KmWh87hni-GU"
   },
   "outputs": [],
   "source": [
    "df[\"faixa_etaria\"] = df[\"faixa_etaria\"].replace(\"70 a 74 Conecta Recife\", \"70 a 74 anos\")\n",
    "df[\"faixa_etaria\"] = df[\"faixa_etaria\"].replace(\"40 a 44 anoConecta Recife\", \"40 a 44 anos\")\n",
    "df[\"faixa_etaria\"] = df[\"faixa_etaria\"].replace(\"5 a 9 ano0 a 4 anos\", \"5 a 9 anos\")"
   ]
  },
  {
   "cell_type": "code",
   "execution_count": null,
   "metadata": {
    "colab": {
     "base_uri": "https://localhost:8080/"
    },
    "id": "oZhuJM1bjxfL",
    "outputId": "acaccd7d-26c9-4b20-baa6-e6df69fd2f69"
   },
   "outputs": [
    {
     "data": {
      "text/plain": [
       "array(['40 a 44 anos', '80 a 84 anos', '55 a 59 anos', '45 a 49 anos',\n",
       "       '75 a 79 anos', '60 a 64 anos', '65 a 69 anos', '50 a 54 anos',\n",
       "       '35 a 39 anos', '70 a 74 anos', '90 a 94 anos', '85 a 89 anos',\n",
       "       '25 a 29 anos', '5 a 9 anos', '20 a 24 anos', '30 a 34 anos',\n",
       "       '95 a 99 anos', '15 a 19 anos', '100 anos +', '10 a 14 anos',\n",
       "       '0 a 4 anos', nan, '1RECIFE', '6CRIANÇAS DE 05 A 11 ANOS'],\n",
       "      dtype=object)"
      ]
     },
     "execution_count": 94,
     "metadata": {},
     "output_type": "execute_result"
    }
   ],
   "source": [
    "df[\"faixa_etaria\"].unique()"
   ]
  },
  {
   "cell_type": "code",
   "execution_count": null,
   "metadata": {
    "colab": {
     "base_uri": "https://localhost:8080/"
    },
    "id": "Bhg4-PSRjz5q",
    "outputId": "9b4cedb3-f6a6-436b-df28-e3d00178c6ad"
   },
   "outputs": [
    {
     "data": {
      "text/plain": [
       "array(['40 a 44 anos', '80 a 84 anos', '55 a 59 anos', '45 a 49 anos',\n",
       "       '75 a 79 anos', '60 a 64 anos', '65 a 69 anos', '50 a 54 anos',\n",
       "       '35 a 39 anos', '70 a 74 anos', '90 a 94 anos', '85 a 89 anos',\n",
       "       '25 a 29 anos', '5 a 9 anos', '20 a 24 anos', '30 a 34 anos',\n",
       "       '95 a 99 anos', '15 a 19 anos', '100 anos +', '10 a 14 anos',\n",
       "       '0 a 4 anos', nan], dtype=object)"
      ]
     },
     "execution_count": 96,
     "metadata": {},
     "output_type": "execute_result"
    }
   ],
   "source": [
    "total_faixa_etaria = df.loc[(df[\"faixa_etaria\"] != \"1RECIFE\") & (df['faixa_etaria'] != \"6CRIANÇAS DE 05 A 11 ANOS\")]\n",
    "total_faixa_etaria[\"faixa_etaria\"].unique()"
   ]
  },
  {
   "cell_type": "code",
   "execution_count": null,
   "metadata": {
    "colab": {
     "base_uri": "https://localhost:8080/"
    },
    "id": "tmlYFzmdk-JO",
    "outputId": "9c177693-4848-4e7e-ceb1-022431bf90b4"
   },
   "outputs": [
    {
     "data": {
      "text/plain": [
       "40 a 44 anos    89776\n",
       "30 a 34 anos    81040\n",
       "35 a 39 anos    78237\n",
       "25 a 29 anos    62337\n",
       "5 a 9 anos      58319\n",
       "10 a 14 anos    42100\n",
       "20 a 24 anos    40353\n",
       "65 a 69 anos    33015\n",
       "15 a 19 anos    31851\n",
       "45 a 49 anos    27265\n",
       "60 a 64 anos    23612\n",
       "70 a 74 anos    23545\n",
       "0 a 4 anos      14177\n",
       "75 a 79 anos    12692\n",
       "50 a 54 anos     9859\n",
       "80 a 84 anos     8995\n",
       "55 a 59 anos     7302\n",
       "85 a 89 anos     4461\n",
       "90 a 94 anos     1914\n",
       "95 a 99 anos      554\n",
       "100 anos +        117\n",
       "Name: faixa_etaria, dtype: int64"
      ]
     },
     "execution_count": 97,
     "metadata": {},
     "output_type": "execute_result"
    }
   ],
   "source": [
    "total_faixa_etaria[\"faixa_etaria\"].value_counts()"
   ]
  },
  {
   "cell_type": "code",
   "execution_count": null,
   "metadata": {
    "id": "Ik4XGWFglQ1V"
   },
   "outputs": [],
   "source": []
  }
 ],
 "metadata": {
  "colab": {
   "authorship_tag": "ABX9TyNJNDiM5YmmqVyxl6OLFRr/",
   "include_colab_link": true,
   "provenance": []
  },
  "kernelspec": {
   "display_name": "Python 3 (ipykernel)",
   "language": "python",
   "name": "python3"
  },
  "language_info": {
   "codemirror_mode": {
    "name": "ipython",
    "version": 3
   },
   "file_extension": ".py",
   "mimetype": "text/x-python",
   "name": "python",
   "nbconvert_exporter": "python",
   "pygments_lexer": "ipython3",
   "version": "3.9.12"
  }
 },
 "nbformat": 4,
 "nbformat_minor": 1
}
